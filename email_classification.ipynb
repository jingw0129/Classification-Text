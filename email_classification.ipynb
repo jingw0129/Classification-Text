{
 "cells": [
  {
   "cell_type": "code",
   "execution_count": 31,
   "metadata": {
    "collapsed": true
   },
   "outputs": [],
   "source": [
    "import io\n",
    "import re\n",
    "import json\n",
    "import string\n",
    "import codecs\n",
    "import itertools\n",
    "import sys\n",
    "import pandas as pd\n",
    "import operator"
   ]
  },
  {
   "cell_type": "code",
   "execution_count": 2,
   "metadata": {
    "collapsed": true
   },
   "outputs": [],
   "source": [
    "import matplotlib.pyplot as plt\n",
    "# import tensorflow as tf"
   ]
  },
  {
   "cell_type": "code",
   "execution_count": 3,
   "metadata": {
    "collapsed": true
   },
   "outputs": [],
   "source": [
    "import csv\n",
    "import numpy as np"
   ]
  },
  {
   "cell_type": "code",
   "execution_count": 4,
   "metadata": {
    "collapsed": true
   },
   "outputs": [],
   "source": [
    "from itertools import chain\n",
    "from sklearn.feature_extraction.text import CountVectorizer\n",
    "from sklearn.feature_extraction.text import TfidfTransformer\n",
    "from sklearn.model_selection import train_test_split\n",
    "from sklearn.neighbors import KNeighborsClassifier\n",
    "from sklearn import datasets, linear_model\n",
    "from sklearn.linear_model import LogisticRegression\n",
    "from sklearn.datasets.samples_generator import make_blobs\n",
    "from sklearn.decomposition import PCA\n",
    "from sklearn.cluster import KMeans"
   ]
  },
  {
   "cell_type": "code",
   "execution_count": 5,
   "metadata": {
    "collapsed": true
   },
   "outputs": [],
   "source": [
    "from sklearn.naive_bayes import MultinomialNB\n",
    "from sklearn.linear_model import LogisticRegression\n",
    "from sklearn.ensemble import RandomForestClassifier\n",
    "from sklearn.svm import LinearSVC\n",
    "from sklearn.model_selection import cross_val_score"
   ]
  },
  {
   "cell_type": "code",
   "execution_count": 6,
   "metadata": {
    "collapsed": true
   },
   "outputs": [],
   "source": [
    "import nltk\n",
    "from nltk import text\n",
    "from nltk import NaiveBayesClassifier\n",
    "from nltk import tag\n",
    "from nltk.corpus import stopwords\n",
    "from nltk.tokenize import word_tokenize\n",
    "\n",
    "from collections import Counter\n",
    "from nltk.stem.wordnet import WordNetLemmatizer"
   ]
  },
  {
   "cell_type": "code",
   "execution_count": 7,
   "metadata": {
    "collapsed": false
   },
   "outputs": [
    {
     "name": "stderr",
     "output_type": "stream",
     "text": [
      "C:\\Users\\Aimee\\Anaconda3\\lib\\site-packages\\gensim\\utils.py:1197: UserWarning: detected Windows; aliasing chunkize to chunkize_serial\n",
      "  warnings.warn(\"detected Windows; aliasing chunkize to chunkize_serial\")\n"
     ]
    }
   ],
   "source": [
    "import gensim\n",
    "from gensim.utils import simple_preprocess\n",
    "from gensim.parsing.preprocessing import STOPWORDS\n",
    "from nltk.stem import WordNetLemmatizer, SnowballStemmer\n",
    "from nltk.stem.porter import *"
   ]
  },
  {
   "cell_type": "code",
   "execution_count": 8,
   "metadata": {
    "collapsed": true
   },
   "outputs": [],
   "source": [
    "colnames=[\"index\",\"email\",\"label\"]"
   ]
  },
  {
   "cell_type": "code",
   "execution_count": 54,
   "metadata": {
    "collapsed": true
   },
   "outputs": [],
   "source": [
    "df_sales_templates = pd.read_csv('C:/Users/Aimee/Templates_sales.csv',usecols=[\"email\",\"label\"])"
   ]
  },
  {
   "cell_type": "code",
   "execution_count": 55,
   "metadata": {
    "collapsed": false,
    "scrolled": true
   },
   "outputs": [
    {
     "data": {
      "text/html": [
       "<div>\n",
       "<style scoped>\n",
       "    .dataframe tbody tr th:only-of-type {\n",
       "        vertical-align: middle;\n",
       "    }\n",
       "\n",
       "    .dataframe tbody tr th {\n",
       "        vertical-align: top;\n",
       "    }\n",
       "\n",
       "    .dataframe thead th {\n",
       "        text-align: right;\n",
       "    }\n",
       "</style>\n",
       "<table border=\"1\" class=\"dataframe\">\n",
       "  <thead>\n",
       "    <tr style=\"text-align: right;\">\n",
       "      <th></th>\n",
       "      <th>label</th>\n",
       "      <th>email</th>\n",
       "    </tr>\n",
       "  </thead>\n",
       "  <tbody>\n",
       "    <tr>\n",
       "      <th>87</th>\n",
       "      <td>Other Sales Email</td>\n",
       "      <td>{name},\\r\\nOne of our clients was able to [imp...</td>\n",
       "    </tr>\n",
       "    <tr>\n",
       "      <th>88</th>\n",
       "      <td>Other Sales Email</td>\n",
       "      <td>{name},\\r\\n\\r\\nI reached out previously regard...</td>\n",
       "    </tr>\n",
       "    <tr>\n",
       "      <th>89</th>\n",
       "      <td>Inbound</td>\n",
       "      <td>Hi {name},\\r\\n\\r\\nI noticed that you recently ...</td>\n",
       "    </tr>\n",
       "    <tr>\n",
       "      <th>90</th>\n",
       "      <td>Inbound</td>\n",
       "      <td>Hi {name},Thank you for signing up to test dri...</td>\n",
       "    </tr>\n",
       "    <tr>\n",
       "      <th>91</th>\n",
       "      <td>Inbound</td>\n",
       "      <td>Hey {name}\\r\\n\\r\\nWhats going on?I saw that yo...</td>\n",
       "    </tr>\n",
       "  </tbody>\n",
       "</table>\n",
       "</div>"
      ],
      "text/plain": [
       "                label                                              email\n",
       "87  Other Sales Email  {name},\\r\\nOne of our clients was able to [imp...\n",
       "88  Other Sales Email  {name},\\r\\n\\r\\nI reached out previously regard...\n",
       "89            Inbound  Hi {name},\\r\\n\\r\\nI noticed that you recently ...\n",
       "90            Inbound  Hi {name},Thank you for signing up to test dri...\n",
       "91            Inbound  Hey {name}\\r\\n\\r\\nWhats going on?I saw that yo..."
      ]
     },
     "execution_count": 55,
     "metadata": {},
     "output_type": "execute_result"
    }
   ],
   "source": [
    "df_sales_templates.tail()"
   ]
  },
  {
   "cell_type": "code",
   "execution_count": 56,
   "metadata": {
    "collapsed": true
   },
   "outputs": [],
   "source": [
    "df_sales = pd.read_csv('C:/Users/Aimee/sales_emails.csv',usecols=[\"email\"])\n",
    "# df_sales[\"id\"]= 1\n",
    "# df_sales = pd.read_csv('C:/Users/Aimee/sales_emails.csv',names=colnames)\n",
    "df1=df_sales[2400:3800]"
   ]
  },
  {
   "cell_type": "code",
   "execution_count": 57,
   "metadata": {
    "collapsed": true,
    "scrolled": true
   },
   "outputs": [],
   "source": [
    "df_sales.drop_duplicates(\"email\")\n",
    "df_sales[\"index\"]=df_sales.index"
   ]
  },
  {
   "cell_type": "code",
   "execution_count": 58,
   "metadata": {
    "collapsed": true
   },
   "outputs": [],
   "source": [
    "sales_dic = df_sales.set_index('index')[\"email\"].to_dict()\n",
    "# sales_dic"
   ]
  },
  {
   "cell_type": "code",
   "execution_count": 59,
   "metadata": {
    "collapsed": true
   },
   "outputs": [],
   "source": [
    "# df_sales.drop(df_sales.index[0], inplace=True)\n"
   ]
  },
  {
   "cell_type": "code",
   "execution_count": 60,
   "metadata": {
    "collapsed": true
   },
   "outputs": [],
   "source": [
    "df_nonsales = pd.read_csv('C:/Users/Aimee/non_sales_emails.csv',usecols=[\"email\",\"label\"])"
   ]
  },
  {
   "cell_type": "code",
   "execution_count": 62,
   "metadata": {
    "collapsed": false,
    "scrolled": true
   },
   "outputs": [
    {
     "data": {
      "text/html": [
       "<div>\n",
       "<style scoped>\n",
       "    .dataframe tbody tr th:only-of-type {\n",
       "        vertical-align: middle;\n",
       "    }\n",
       "\n",
       "    .dataframe tbody tr th {\n",
       "        vertical-align: top;\n",
       "    }\n",
       "\n",
       "    .dataframe thead th {\n",
       "        text-align: right;\n",
       "    }\n",
       "</style>\n",
       "<table border=\"1\" class=\"dataframe\">\n",
       "  <thead>\n",
       "    <tr style=\"text-align: right;\">\n",
       "      <th></th>\n",
       "      <th>email</th>\n",
       "      <th>label</th>\n",
       "    </tr>\n",
       "  </thead>\n",
       "  <tbody>\n",
       "    <tr>\n",
       "      <th>2000</th>\n",
       "      <td>Lucy,Now that #44 is rented and you have settl...</td>\n",
       "      <td>other</td>\n",
       "    </tr>\n",
       "    <tr>\n",
       "      <th>2001</th>\n",
       "      <td>---------------------- Forwarded by Phillip K ...</td>\n",
       "      <td>other</td>\n",
       "    </tr>\n",
       "    <tr>\n",
       "      <th>2002</th>\n",
       "      <td>EOL report for TV in conference on 33Cash-Hehu...</td>\n",
       "      <td>other</td>\n",
       "    </tr>\n",
       "    <tr>\n",
       "      <th>2003</th>\n",
       "      <td>CashHehubChicagoPEPLKatySocalOpalPermianGas Da...</td>\n",
       "      <td>other</td>\n",
       "    </tr>\n",
       "    <tr>\n",
       "      <th>2004</th>\n",
       "      <td>Cooper,Did you add some more security to the e...</td>\n",
       "      <td>other</td>\n",
       "    </tr>\n",
       "    <tr>\n",
       "      <th>2005</th>\n",
       "      <td>Please let me know if you still need Curve Shi...</td>\n",
       "      <td>other</td>\n",
       "    </tr>\n",
       "    <tr>\n",
       "      <th>2006</th>\n",
       "      <td>_____________________DAVID COURSEY____________...</td>\n",
       "      <td>other</td>\n",
       "    </tr>\n",
       "    <tr>\n",
       "      <th>2007</th>\n",
       "      <td>Dear phillip,This e-mail is automated notifica...</td>\n",
       "      <td>other</td>\n",
       "    </tr>\n",
       "    <tr>\n",
       "      <th>2008</th>\n",
       "      <td>[IMAGE] [IMAGE]   [IMAGE]   [IMAGE] $ 2,500 [I...</td>\n",
       "      <td>other</td>\n",
       "    </tr>\n",
       "    <tr>\n",
       "      <th>2009</th>\n",
       "      <td>john.zufferli@enron.com, peggy.hedstrom@enron....</td>\n",
       "      <td>other</td>\n",
       "    </tr>\n",
       "    <tr>\n",
       "      <th>2010</th>\n",
       "      <td>NaN</td>\n",
       "      <td>other</td>\n",
       "    </tr>\n",
       "    <tr>\n",
       "      <th>2011</th>\n",
       "      <td>_____________________DAVID COURSEY____________...</td>\n",
       "      <td>other</td>\n",
       "    </tr>\n",
       "    <tr>\n",
       "      <th>2012</th>\n",
       "      <td>&lt;!--==========================================...</td>\n",
       "      <td>other</td>\n",
       "    </tr>\n",
       "    <tr>\n",
       "      <th>2013</th>\n",
       "      <td>Dear phillip,This e-mail is automated notifica...</td>\n",
       "      <td>other</td>\n",
       "    </tr>\n",
       "    <tr>\n",
       "      <th>2014</th>\n",
       "      <td>Dear phillip,This e-mail is automated notifica...</td>\n",
       "      <td>other</td>\n",
       "    </tr>\n",
       "    <tr>\n",
       "      <th>2015</th>\n",
       "      <td>NaN</td>\n",
       "      <td>other</td>\n",
       "    </tr>\n",
       "    <tr>\n",
       "      <th>2016</th>\n",
       "      <td>Attached is the information you have requested...</td>\n",
       "      <td>other</td>\n",
       "    </tr>\n",
       "    <tr>\n",
       "      <th>2017</th>\n",
       "      <td>Greg/Phillip,Attached is the Grande Communicat...</td>\n",
       "      <td>other</td>\n",
       "    </tr>\n",
       "    <tr>\n",
       "      <th>2018</th>\n",
       "      <td>Greg/Phillip,I will need Two (2) executed copi...</td>\n",
       "      <td>other</td>\n",
       "    </tr>\n",
       "    <tr>\n",
       "      <th>2019</th>\n",
       "      <td>Phillip, there are a number of alternative sys...</td>\n",
       "      <td>other</td>\n",
       "    </tr>\n",
       "    <tr>\n",
       "      <th>2020</th>\n",
       "      <td>There are three other deals that I will fax to...</td>\n",
       "      <td>other</td>\n",
       "    </tr>\n",
       "    <tr>\n",
       "      <th>2021</th>\n",
       "      <td>Phillip,Could you please do me a favor?  I wou...</td>\n",
       "      <td>other</td>\n",
       "    </tr>\n",
       "    <tr>\n",
       "      <th>2022</th>\n",
       "      <td>Phillip,Pursuant to your request, please see t...</td>\n",
       "      <td>other</td>\n",
       "    </tr>\n",
       "    <tr>\n",
       "      <th>2023</th>\n",
       "      <td>&lt;&lt;3MMP10!.DOC&gt;&gt;Phillip,Enclosed please find th...</td>\n",
       "      <td>other</td>\n",
       "    </tr>\n",
       "    <tr>\n",
       "      <th>2024</th>\n",
       "      <td>&lt;&lt;3MMPRED.DOC&gt;&gt;Phillip,Enclosed please find a ...</td>\n",
       "      <td>other</td>\n",
       "    </tr>\n",
       "    <tr>\n",
       "      <th>2025</th>\n",
       "      <td>Phillip &amp; KeithAttached is the first draw requ...</td>\n",
       "      <td>other</td>\n",
       "    </tr>\n",
       "    <tr>\n",
       "      <th>2026</th>\n",
       "      <td>Hi Phillip,This message is to confirm our meet...</td>\n",
       "      <td>other</td>\n",
       "    </tr>\n",
       "    <tr>\n",
       "      <th>2027</th>\n",
       "      <td>PhillipMy interpretation of this is that we ma...</td>\n",
       "      <td>other</td>\n",
       "    </tr>\n",
       "    <tr>\n",
       "      <th>2028</th>\n",
       "      <td>Phillip,Have you found the title policy?Thanks...</td>\n",
       "      <td>other</td>\n",
       "    </tr>\n",
       "    <tr>\n",
       "      <th>2029</th>\n",
       "      <td>Sheri and I would like to discuss the practice...</td>\n",
       "      <td>other</td>\n",
       "    </tr>\n",
       "    <tr>\n",
       "      <th>...</th>\n",
       "      <td>...</td>\n",
       "      <td>...</td>\n",
       "    </tr>\n",
       "    <tr>\n",
       "      <th>2370</th>\n",
       "      <td>Greg,I faxed you the promotional on 10300 Heri...</td>\n",
       "      <td>other</td>\n",
       "    </tr>\n",
       "    <tr>\n",
       "      <th>2371</th>\n",
       "      <td>Jim,Take a look at this spreadsheet.  I tried ...</td>\n",
       "      <td>other</td>\n",
       "    </tr>\n",
       "    <tr>\n",
       "      <th>2372</th>\n",
       "      <td>Mery,This sounds better than the limitations y...</td>\n",
       "      <td>other</td>\n",
       "    </tr>\n",
       "    <tr>\n",
       "      <th>2373</th>\n",
       "      <td>Jim,I received your email on the Killeen post ...</td>\n",
       "      <td>other</td>\n",
       "    </tr>\n",
       "    <tr>\n",
       "      <th>2374</th>\n",
       "      <td>Bob,The application for the variance states th...</td>\n",
       "      <td>other</td>\n",
       "    </tr>\n",
       "    <tr>\n",
       "      <th>2375</th>\n",
       "      <td>Steve,I need help determining how much margin ...</td>\n",
       "      <td>other</td>\n",
       "    </tr>\n",
       "    <tr>\n",
       "      <th>2376</th>\n",
       "      <td>Tim,Have you considered reducing the scope or ...</td>\n",
       "      <td>other</td>\n",
       "    </tr>\n",
       "    <tr>\n",
       "      <th>2377</th>\n",
       "      <td>-----Original Message-----Yes I have.Terminate...</td>\n",
       "      <td>other</td>\n",
       "    </tr>\n",
       "    <tr>\n",
       "      <th>2378</th>\n",
       "      <td>I would like more detail about how much margin...</td>\n",
       "      <td>other</td>\n",
       "    </tr>\n",
       "    <tr>\n",
       "      <th>2379</th>\n",
       "      <td>Jeff,Jacques Craig will draw up a release.  Wh...</td>\n",
       "      <td>other</td>\n",
       "    </tr>\n",
       "    <tr>\n",
       "      <th>2380</th>\n",
       "      <td>When can we reschedule the meeting regarding p...</td>\n",
       "      <td>other</td>\n",
       "    </tr>\n",
       "    <tr>\n",
       "      <th>2381</th>\n",
       "      <td>I would like to achieve a yield of 5%.  I am e...</td>\n",
       "      <td>other</td>\n",
       "    </tr>\n",
       "    <tr>\n",
       "      <th>2382</th>\n",
       "      <td>I am still using my home Nortel VPN access.---...</td>\n",
       "      <td>other</td>\n",
       "    </tr>\n",
       "    <tr>\n",
       "      <th>2383</th>\n",
       "      <td>What are the specifics of those bonds are they...</td>\n",
       "      <td>other</td>\n",
       "    </tr>\n",
       "    <tr>\n",
       "      <th>2384</th>\n",
       "      <td>Let's start with $1 million.-----Original Mess...</td>\n",
       "      <td>other</td>\n",
       "    </tr>\n",
       "    <tr>\n",
       "      <th>2385</th>\n",
       "      <td>Bob,I turned in the application for a variance...</td>\n",
       "      <td>other</td>\n",
       "    </tr>\n",
       "    <tr>\n",
       "      <th>2386</th>\n",
       "      <td>Please review. =20Greg,After making an electio...</td>\n",
       "      <td>other</td>\n",
       "    </tr>\n",
       "    <tr>\n",
       "      <th>2387</th>\n",
       "      <td>The spreadsheet you sent will not open up and ...</td>\n",
       "      <td>other</td>\n",
       "    </tr>\n",
       "    <tr>\n",
       "      <th>2388</th>\n",
       "      <td>Mery,I will not be in the office on Thursday. ...</td>\n",
       "      <td>other</td>\n",
       "    </tr>\n",
       "    <tr>\n",
       "      <th>2389</th>\n",
       "      <td>Jim,I realize you are excited about these post...</td>\n",
       "      <td>other</td>\n",
       "    </tr>\n",
       "    <tr>\n",
       "      <th>2390</th>\n",
       "      <td>Tony,Here is the completed worksheet.  I also ...</td>\n",
       "      <td>other</td>\n",
       "    </tr>\n",
       "    <tr>\n",
       "      <th>2391</th>\n",
       "      <td>The west desk would like 2 analysts.</td>\n",
       "      <td>other</td>\n",
       "    </tr>\n",
       "    <tr>\n",
       "      <th>2392</th>\n",
       "      <td>Pam please review.  I don't want to misreprese...</td>\n",
       "      <td>other</td>\n",
       "    </tr>\n",
       "    <tr>\n",
       "      <th>2393</th>\n",
       "      <td>Greg,After making an election in October to re...</td>\n",
       "      <td>other</td>\n",
       "    </tr>\n",
       "    <tr>\n",
       "      <th>2394</th>\n",
       "      <td>Yevgeny,Please send me an email describing the...</td>\n",
       "      <td>other</td>\n",
       "    </tr>\n",
       "    <tr>\n",
       "      <th>2395</th>\n",
       "      <td>Mike &amp; Tony,Rather than fill in the design sel...</td>\n",
       "      <td>other</td>\n",
       "    </tr>\n",
       "    <tr>\n",
       "      <th>2396</th>\n",
       "      <td>-----Original Message-----Mike &amp; Tony,Rather t...</td>\n",
       "      <td>other</td>\n",
       "    </tr>\n",
       "    <tr>\n",
       "      <th>2397</th>\n",
       "      <td>Mery,Are we scheduled to meet tomorrow at 10 A...</td>\n",
       "      <td>other</td>\n",
       "    </tr>\n",
       "    <tr>\n",
       "      <th>2398</th>\n",
       "      <td>Jim,Your spreadsheet shows the same type of re...</td>\n",
       "      <td>other</td>\n",
       "    </tr>\n",
       "    <tr>\n",
       "      <th>2399</th>\n",
       "      <td>Attached is the final version of the Californi...</td>\n",
       "      <td>other</td>\n",
       "    </tr>\n",
       "  </tbody>\n",
       "</table>\n",
       "<p>400 rows × 2 columns</p>\n",
       "</div>"
      ],
      "text/plain": [
       "                                                  email  label\n",
       "2000  Lucy,Now that #44 is rented and you have settl...  other\n",
       "2001  ---------------------- Forwarded by Phillip K ...  other\n",
       "2002  EOL report for TV in conference on 33Cash-Hehu...  other\n",
       "2003  CashHehubChicagoPEPLKatySocalOpalPermianGas Da...  other\n",
       "2004  Cooper,Did you add some more security to the e...  other\n",
       "2005  Please let me know if you still need Curve Shi...  other\n",
       "2006  _____________________DAVID COURSEY____________...  other\n",
       "2007  Dear phillip,This e-mail is automated notifica...  other\n",
       "2008  [IMAGE] [IMAGE]   [IMAGE]   [IMAGE] $ 2,500 [I...  other\n",
       "2009  john.zufferli@enron.com, peggy.hedstrom@enron....  other\n",
       "2010                                                NaN  other\n",
       "2011  _____________________DAVID COURSEY____________...  other\n",
       "2012  <!--==========================================...  other\n",
       "2013  Dear phillip,This e-mail is automated notifica...  other\n",
       "2014  Dear phillip,This e-mail is automated notifica...  other\n",
       "2015                                                NaN  other\n",
       "2016  Attached is the information you have requested...  other\n",
       "2017  Greg/Phillip,Attached is the Grande Communicat...  other\n",
       "2018  Greg/Phillip,I will need Two (2) executed copi...  other\n",
       "2019  Phillip, there are a number of alternative sys...  other\n",
       "2020  There are three other deals that I will fax to...  other\n",
       "2021  Phillip,Could you please do me a favor?  I wou...  other\n",
       "2022  Phillip,Pursuant to your request, please see t...  other\n",
       "2023  <<3MMP10!.DOC>>Phillip,Enclosed please find th...  other\n",
       "2024  <<3MMPRED.DOC>>Phillip,Enclosed please find a ...  other\n",
       "2025  Phillip & KeithAttached is the first draw requ...  other\n",
       "2026  Hi Phillip,This message is to confirm our meet...  other\n",
       "2027  PhillipMy interpretation of this is that we ma...  other\n",
       "2028  Phillip,Have you found the title policy?Thanks...  other\n",
       "2029  Sheri and I would like to discuss the practice...  other\n",
       "...                                                 ...    ...\n",
       "2370  Greg,I faxed you the promotional on 10300 Heri...  other\n",
       "2371  Jim,Take a look at this spreadsheet.  I tried ...  other\n",
       "2372  Mery,This sounds better than the limitations y...  other\n",
       "2373  Jim,I received your email on the Killeen post ...  other\n",
       "2374  Bob,The application for the variance states th...  other\n",
       "2375  Steve,I need help determining how much margin ...  other\n",
       "2376  Tim,Have you considered reducing the scope or ...  other\n",
       "2377  -----Original Message-----Yes I have.Terminate...  other\n",
       "2378  I would like more detail about how much margin...  other\n",
       "2379  Jeff,Jacques Craig will draw up a release.  Wh...  other\n",
       "2380  When can we reschedule the meeting regarding p...  other\n",
       "2381  I would like to achieve a yield of 5%.  I am e...  other\n",
       "2382  I am still using my home Nortel VPN access.---...  other\n",
       "2383  What are the specifics of those bonds are they...  other\n",
       "2384  Let's start with $1 million.-----Original Mess...  other\n",
       "2385  Bob,I turned in the application for a variance...  other\n",
       "2386  Please review. =20Greg,After making an electio...  other\n",
       "2387  The spreadsheet you sent will not open up and ...  other\n",
       "2388  Mery,I will not be in the office on Thursday. ...  other\n",
       "2389  Jim,I realize you are excited about these post...  other\n",
       "2390  Tony,Here is the completed worksheet.  I also ...  other\n",
       "2391               The west desk would like 2 analysts.  other\n",
       "2392  Pam please review.  I don't want to misreprese...  other\n",
       "2393  Greg,After making an election in October to re...  other\n",
       "2394  Yevgeny,Please send me an email describing the...  other\n",
       "2395  Mike & Tony,Rather than fill in the design sel...  other\n",
       "2396  -----Original Message-----Mike & Tony,Rather t...  other\n",
       "2397  Mery,Are we scheduled to meet tomorrow at 10 A...  other\n",
       "2398  Jim,Your spreadsheet shows the same type of re...  other\n",
       "2399  Attached is the final version of the Californi...  other\n",
       "\n",
       "[400 rows x 2 columns]"
      ]
     },
     "execution_count": 62,
     "metadata": {},
     "output_type": "execute_result"
    }
   ],
   "source": [
    "df2=df_nonsales[2000:2400]\n",
    "df2\n",
    "# df2.drop(df2.index[0], inplace=True)"
   ]
  },
  {
   "cell_type": "code",
   "execution_count": 63,
   "metadata": {
    "collapsed": true
   },
   "outputs": [],
   "source": [
    "df_result = pd.concat([df_sales_templates, df2], axis=0,sort=False)\n"
   ]
  },
  {
   "cell_type": "code",
   "execution_count": 64,
   "metadata": {
    "collapsed": true
   },
   "outputs": [],
   "source": [
    "df_result['index'] = range(0, len(df_result))\n",
    "df_result = df_result.drop_duplicates(\"email\")"
   ]
  },
  {
   "cell_type": "code",
   "execution_count": 65,
   "metadata": {
    "collapsed": false,
    "scrolled": true
   },
   "outputs": [
    {
     "data": {
      "text/html": [
       "<div>\n",
       "<style scoped>\n",
       "    .dataframe tbody tr th:only-of-type {\n",
       "        vertical-align: middle;\n",
       "    }\n",
       "\n",
       "    .dataframe tbody tr th {\n",
       "        vertical-align: top;\n",
       "    }\n",
       "\n",
       "    .dataframe thead th {\n",
       "        text-align: right;\n",
       "    }\n",
       "</style>\n",
       "<table border=\"1\" class=\"dataframe\">\n",
       "  <thead>\n",
       "    <tr style=\"text-align: right;\">\n",
       "      <th></th>\n",
       "      <th>label</th>\n",
       "      <th>email</th>\n",
       "      <th>index</th>\n",
       "      <th>labels</th>\n",
       "    </tr>\n",
       "  </thead>\n",
       "  <tbody>\n",
       "    <tr>\n",
       "      <th>0</th>\n",
       "      <td>Cold Email Templates</td>\n",
       "      <td>Hi ,My name is aimee with {Your Company,We hel...</td>\n",
       "      <td>0</td>\n",
       "      <td>0</td>\n",
       "    </tr>\n",
       "    <tr>\n",
       "      <th>1</th>\n",
       "      <td>Cold Email Templates</td>\n",
       "      <td>Hi Mike,\\r\\n\\r\\nMy name is Nick and I’m a co-f...</td>\n",
       "      <td>1</td>\n",
       "      <td>0</td>\n",
       "    </tr>\n",
       "    <tr>\n",
       "      <th>2</th>\n",
       "      <td>Cold Email Templates</td>\n",
       "      <td>I'd like to discuss your lead gen efforts.\\r\\n...</td>\n",
       "      <td>2</td>\n",
       "      <td>0</td>\n",
       "    </tr>\n",
       "    <tr>\n",
       "      <th>3</th>\n",
       "      <td>Cold Email Templates</td>\n",
       "      <td>Hi {name},\\r\\n\\r\\n{myName} from {myCompany} he...</td>\n",
       "      <td>3</td>\n",
       "      <td>0</td>\n",
       "    </tr>\n",
       "    <tr>\n",
       "      <th>4</th>\n",
       "      <td>Cold Email Templates</td>\n",
       "      <td>Hi {name},\\r\\n\\r\\nI’m trying to figure out who...</td>\n",
       "      <td>4</td>\n",
       "      <td>0</td>\n",
       "    </tr>\n",
       "    <tr>\n",
       "      <th>5</th>\n",
       "      <td>Cold Email Templates</td>\n",
       "      <td>Hello {name},\\r\\n\\r\\nWhat would it mean to you...</td>\n",
       "      <td>5</td>\n",
       "      <td>0</td>\n",
       "    </tr>\n",
       "    <tr>\n",
       "      <th>6</th>\n",
       "      <td>Cold Email Templates</td>\n",
       "      <td>Hi {name},\\r\\n\\r\\nI hope this note finds you w...</td>\n",
       "      <td>6</td>\n",
       "      <td>0</td>\n",
       "    </tr>\n",
       "    <tr>\n",
       "      <th>7</th>\n",
       "      <td>Cold Email Templates</td>\n",
       "      <td>{name},\\r\\n\\r\\nI am doing some research on you...</td>\n",
       "      <td>7</td>\n",
       "      <td>0</td>\n",
       "    </tr>\n",
       "    <tr>\n",
       "      <th>8</th>\n",
       "      <td>Cold Email Templates</td>\n",
       "      <td>{name},\\r\\n\\r\\nI’m hoping you can help me, who...</td>\n",
       "      <td>8</td>\n",
       "      <td>0</td>\n",
       "    </tr>\n",
       "    <tr>\n",
       "      <th>9</th>\n",
       "      <td>Cold Email Templates</td>\n",
       "      <td>I’m sorry to trouble you. Can you tell me who ...</td>\n",
       "      <td>9</td>\n",
       "      <td>0</td>\n",
       "    </tr>\n",
       "    <tr>\n",
       "      <th>10</th>\n",
       "      <td>Cold Email Templates</td>\n",
       "      <td>We have a service that will help you [insert q...</td>\n",
       "      <td>10</td>\n",
       "      <td>0</td>\n",
       "    </tr>\n",
       "    <tr>\n",
       "      <th>11</th>\n",
       "      <td>Cold Email Templates</td>\n",
       "      <td>We have a service that will help you [insert q...</td>\n",
       "      <td>11</td>\n",
       "      <td>0</td>\n",
       "    </tr>\n",
       "    <tr>\n",
       "      <th>12</th>\n",
       "      <td>Cold Email Templates</td>\n",
       "      <td>I was wondering if you were looking for more b...</td>\n",
       "      <td>12</td>\n",
       "      <td>0</td>\n",
       "    </tr>\n",
       "    <tr>\n",
       "      <th>13</th>\n",
       "      <td>Cold Email Templates</td>\n",
       "      <td>Hello {name},\\r\\n\\r\\nI have an idea that I can...</td>\n",
       "      <td>13</td>\n",
       "      <td>0</td>\n",
       "    </tr>\n",
       "    <tr>\n",
       "      <th>14</th>\n",
       "      <td>Cold Email Templates</td>\n",
       "      <td>Hi {name},\\r\\n\\r\\nThis is {salesrep} with RJMe...</td>\n",
       "      <td>14</td>\n",
       "      <td>0</td>\n",
       "    </tr>\n",
       "    <tr>\n",
       "      <th>15</th>\n",
       "      <td>Cold Email Templates</td>\n",
       "      <td>Hi {name},\\r\\n\\r\\nThis is SDR with RJMetrics. ...</td>\n",
       "      <td>15</td>\n",
       "      <td>0</td>\n",
       "    </tr>\n",
       "    <tr>\n",
       "      <th>16</th>\n",
       "      <td>Cold Email Templates</td>\n",
       "      <td>{name},\\r\\n\\r\\nBookkeeping sucks, and you have...</td>\n",
       "      <td>16</td>\n",
       "      <td>0</td>\n",
       "    </tr>\n",
       "    <tr>\n",
       "      <th>17</th>\n",
       "      <td>Cold Email Templates</td>\n",
       "      <td>Hi {name},\\r\\n\\r\\nI am writing in hopes of fin...</td>\n",
       "      <td>17</td>\n",
       "      <td>0</td>\n",
       "    </tr>\n",
       "    <tr>\n",
       "      <th>18</th>\n",
       "      <td>Cold Email Templates</td>\n",
       "      <td>Hi {name},\\r\\n\\r\\nI am writing in hopes of fin...</td>\n",
       "      <td>18</td>\n",
       "      <td>0</td>\n",
       "    </tr>\n",
       "    <tr>\n",
       "      <th>19</th>\n",
       "      <td>Cold Email Templates</td>\n",
       "      <td>I am doing some research on ________ to determ...</td>\n",
       "      <td>19</td>\n",
       "      <td>0</td>\n",
       "    </tr>\n",
       "    <tr>\n",
       "      <th>20</th>\n",
       "      <td>Cold Email Templates</td>\n",
       "      <td>I’ll be honest, this is not “another sales pit...</td>\n",
       "      <td>20</td>\n",
       "      <td>0</td>\n",
       "    </tr>\n",
       "    <tr>\n",
       "      <th>21</th>\n",
       "      <td>Cold Email Templates</td>\n",
       "      <td>Hi Eric,\\r\\n\\r\\nI understand you are the CEO a...</td>\n",
       "      <td>21</td>\n",
       "      <td>0</td>\n",
       "    </tr>\n",
       "    <tr>\n",
       "      <th>23</th>\n",
       "      <td>Researched Outreach Email Templates</td>\n",
       "      <td>Hey {name},Here are some commonalities between...</td>\n",
       "      <td>23</td>\n",
       "      <td>1</td>\n",
       "    </tr>\n",
       "    <tr>\n",
       "      <th>24</th>\n",
       "      <td>Researched Outreach Email Templates</td>\n",
       "      <td>Hi {Prospect's first name},\\r\\n\\r\\nI recently ...</td>\n",
       "      <td>24</td>\n",
       "      <td>1</td>\n",
       "    </tr>\n",
       "    <tr>\n",
       "      <th>25</th>\n",
       "      <td>Researched Outreach Email Templates</td>\n",
       "      <td>I read in the WSJ yesterday that you're expect...</td>\n",
       "      <td>25</td>\n",
       "      <td>1</td>\n",
       "    </tr>\n",
       "    <tr>\n",
       "      <th>26</th>\n",
       "      <td>Researched Outreach Email Templates</td>\n",
       "      <td>Hey {name},\\r\\n\\r\\nBeen a huge fan of your sit...</td>\n",
       "      <td>26</td>\n",
       "      <td>1</td>\n",
       "    </tr>\n",
       "    <tr>\n",
       "      <th>27</th>\n",
       "      <td>Researched Outreach Email Templates</td>\n",
       "      <td>You did an excellent job speaking at the recen...</td>\n",
       "      <td>27</td>\n",
       "      <td>1</td>\n",
       "    </tr>\n",
       "    <tr>\n",
       "      <th>28</th>\n",
       "      <td>Researched Outreach Email Templates</td>\n",
       "      <td>Hi {name},I noticed you guys don't have a comm...</td>\n",
       "      <td>28</td>\n",
       "      <td>1</td>\n",
       "    </tr>\n",
       "    <tr>\n",
       "      <th>29</th>\n",
       "      <td>Researched Outreach Email Templates</td>\n",
       "      <td>I noticed on your website that xyz is a custom...</td>\n",
       "      <td>29</td>\n",
       "      <td>1</td>\n",
       "    </tr>\n",
       "    <tr>\n",
       "      <th>30</th>\n",
       "      <td>Researched Outreach Email Templates</td>\n",
       "      <td>Hi {name},I understand you may currently be us...</td>\n",
       "      <td>30</td>\n",
       "      <td>1</td>\n",
       "    </tr>\n",
       "    <tr>\n",
       "      <th>...</th>\n",
       "      <td>...</td>\n",
       "      <td>...</td>\n",
       "      <td>...</td>\n",
       "      <td>...</td>\n",
       "    </tr>\n",
       "    <tr>\n",
       "      <th>2370</th>\n",
       "      <td>other</td>\n",
       "      <td>Greg,I faxed you the promotional on 10300 Heri...</td>\n",
       "      <td>462</td>\n",
       "      <td>10</td>\n",
       "    </tr>\n",
       "    <tr>\n",
       "      <th>2371</th>\n",
       "      <td>other</td>\n",
       "      <td>Jim,Take a look at this spreadsheet.  I tried ...</td>\n",
       "      <td>463</td>\n",
       "      <td>10</td>\n",
       "    </tr>\n",
       "    <tr>\n",
       "      <th>2372</th>\n",
       "      <td>other</td>\n",
       "      <td>Mery,This sounds better than the limitations y...</td>\n",
       "      <td>464</td>\n",
       "      <td>10</td>\n",
       "    </tr>\n",
       "    <tr>\n",
       "      <th>2373</th>\n",
       "      <td>other</td>\n",
       "      <td>Jim,I received your email on the Killeen post ...</td>\n",
       "      <td>465</td>\n",
       "      <td>10</td>\n",
       "    </tr>\n",
       "    <tr>\n",
       "      <th>2374</th>\n",
       "      <td>other</td>\n",
       "      <td>Bob,The application for the variance states th...</td>\n",
       "      <td>466</td>\n",
       "      <td>10</td>\n",
       "    </tr>\n",
       "    <tr>\n",
       "      <th>2375</th>\n",
       "      <td>other</td>\n",
       "      <td>Steve,I need help determining how much margin ...</td>\n",
       "      <td>467</td>\n",
       "      <td>10</td>\n",
       "    </tr>\n",
       "    <tr>\n",
       "      <th>2376</th>\n",
       "      <td>other</td>\n",
       "      <td>Tim,Have you considered reducing the scope or ...</td>\n",
       "      <td>468</td>\n",
       "      <td>10</td>\n",
       "    </tr>\n",
       "    <tr>\n",
       "      <th>2377</th>\n",
       "      <td>other</td>\n",
       "      <td>-----Original Message-----Yes I have.Terminate...</td>\n",
       "      <td>469</td>\n",
       "      <td>10</td>\n",
       "    </tr>\n",
       "    <tr>\n",
       "      <th>2378</th>\n",
       "      <td>other</td>\n",
       "      <td>I would like more detail about how much margin...</td>\n",
       "      <td>470</td>\n",
       "      <td>10</td>\n",
       "    </tr>\n",
       "    <tr>\n",
       "      <th>2379</th>\n",
       "      <td>other</td>\n",
       "      <td>Jeff,Jacques Craig will draw up a release.  Wh...</td>\n",
       "      <td>471</td>\n",
       "      <td>10</td>\n",
       "    </tr>\n",
       "    <tr>\n",
       "      <th>2380</th>\n",
       "      <td>other</td>\n",
       "      <td>When can we reschedule the meeting regarding p...</td>\n",
       "      <td>472</td>\n",
       "      <td>10</td>\n",
       "    </tr>\n",
       "    <tr>\n",
       "      <th>2381</th>\n",
       "      <td>other</td>\n",
       "      <td>I would like to achieve a yield of 5%.  I am e...</td>\n",
       "      <td>473</td>\n",
       "      <td>10</td>\n",
       "    </tr>\n",
       "    <tr>\n",
       "      <th>2382</th>\n",
       "      <td>other</td>\n",
       "      <td>I am still using my home Nortel VPN access.---...</td>\n",
       "      <td>474</td>\n",
       "      <td>10</td>\n",
       "    </tr>\n",
       "    <tr>\n",
       "      <th>2383</th>\n",
       "      <td>other</td>\n",
       "      <td>What are the specifics of those bonds are they...</td>\n",
       "      <td>475</td>\n",
       "      <td>10</td>\n",
       "    </tr>\n",
       "    <tr>\n",
       "      <th>2384</th>\n",
       "      <td>other</td>\n",
       "      <td>Let's start with $1 million.-----Original Mess...</td>\n",
       "      <td>476</td>\n",
       "      <td>10</td>\n",
       "    </tr>\n",
       "    <tr>\n",
       "      <th>2385</th>\n",
       "      <td>other</td>\n",
       "      <td>Bob,I turned in the application for a variance...</td>\n",
       "      <td>477</td>\n",
       "      <td>10</td>\n",
       "    </tr>\n",
       "    <tr>\n",
       "      <th>2386</th>\n",
       "      <td>other</td>\n",
       "      <td>Please review. =20Greg,After making an electio...</td>\n",
       "      <td>478</td>\n",
       "      <td>10</td>\n",
       "    </tr>\n",
       "    <tr>\n",
       "      <th>2387</th>\n",
       "      <td>other</td>\n",
       "      <td>The spreadsheet you sent will not open up and ...</td>\n",
       "      <td>479</td>\n",
       "      <td>10</td>\n",
       "    </tr>\n",
       "    <tr>\n",
       "      <th>2388</th>\n",
       "      <td>other</td>\n",
       "      <td>Mery,I will not be in the office on Thursday. ...</td>\n",
       "      <td>480</td>\n",
       "      <td>10</td>\n",
       "    </tr>\n",
       "    <tr>\n",
       "      <th>2389</th>\n",
       "      <td>other</td>\n",
       "      <td>Jim,I realize you are excited about these post...</td>\n",
       "      <td>481</td>\n",
       "      <td>10</td>\n",
       "    </tr>\n",
       "    <tr>\n",
       "      <th>2390</th>\n",
       "      <td>other</td>\n",
       "      <td>Tony,Here is the completed worksheet.  I also ...</td>\n",
       "      <td>482</td>\n",
       "      <td>10</td>\n",
       "    </tr>\n",
       "    <tr>\n",
       "      <th>2391</th>\n",
       "      <td>other</td>\n",
       "      <td>The west desk would like 2 analysts.</td>\n",
       "      <td>483</td>\n",
       "      <td>10</td>\n",
       "    </tr>\n",
       "    <tr>\n",
       "      <th>2392</th>\n",
       "      <td>other</td>\n",
       "      <td>Pam please review.  I don't want to misreprese...</td>\n",
       "      <td>484</td>\n",
       "      <td>10</td>\n",
       "    </tr>\n",
       "    <tr>\n",
       "      <th>2393</th>\n",
       "      <td>other</td>\n",
       "      <td>Greg,After making an election in October to re...</td>\n",
       "      <td>485</td>\n",
       "      <td>10</td>\n",
       "    </tr>\n",
       "    <tr>\n",
       "      <th>2394</th>\n",
       "      <td>other</td>\n",
       "      <td>Yevgeny,Please send me an email describing the...</td>\n",
       "      <td>486</td>\n",
       "      <td>10</td>\n",
       "    </tr>\n",
       "    <tr>\n",
       "      <th>2395</th>\n",
       "      <td>other</td>\n",
       "      <td>Mike &amp; Tony,Rather than fill in the design sel...</td>\n",
       "      <td>487</td>\n",
       "      <td>10</td>\n",
       "    </tr>\n",
       "    <tr>\n",
       "      <th>2396</th>\n",
       "      <td>other</td>\n",
       "      <td>-----Original Message-----Mike &amp; Tony,Rather t...</td>\n",
       "      <td>488</td>\n",
       "      <td>10</td>\n",
       "    </tr>\n",
       "    <tr>\n",
       "      <th>2397</th>\n",
       "      <td>other</td>\n",
       "      <td>Mery,Are we scheduled to meet tomorrow at 10 A...</td>\n",
       "      <td>489</td>\n",
       "      <td>10</td>\n",
       "    </tr>\n",
       "    <tr>\n",
       "      <th>2398</th>\n",
       "      <td>other</td>\n",
       "      <td>Jim,Your spreadsheet shows the same type of re...</td>\n",
       "      <td>490</td>\n",
       "      <td>10</td>\n",
       "    </tr>\n",
       "    <tr>\n",
       "      <th>2399</th>\n",
       "      <td>other</td>\n",
       "      <td>Attached is the final version of the Californi...</td>\n",
       "      <td>491</td>\n",
       "      <td>10</td>\n",
       "    </tr>\n",
       "  </tbody>\n",
       "</table>\n",
       "<p>473 rows × 4 columns</p>\n",
       "</div>"
      ],
      "text/plain": [
       "                                    label  \\\n",
       "0                    Cold Email Templates   \n",
       "1                    Cold Email Templates   \n",
       "2                    Cold Email Templates   \n",
       "3                    Cold Email Templates   \n",
       "4                    Cold Email Templates   \n",
       "5                    Cold Email Templates   \n",
       "6                    Cold Email Templates   \n",
       "7                    Cold Email Templates   \n",
       "8                    Cold Email Templates   \n",
       "9                    Cold Email Templates   \n",
       "10                   Cold Email Templates   \n",
       "11                   Cold Email Templates   \n",
       "12                   Cold Email Templates   \n",
       "13                   Cold Email Templates   \n",
       "14                   Cold Email Templates   \n",
       "15                   Cold Email Templates   \n",
       "16                   Cold Email Templates   \n",
       "17                   Cold Email Templates   \n",
       "18                   Cold Email Templates   \n",
       "19                   Cold Email Templates   \n",
       "20                   Cold Email Templates   \n",
       "21                   Cold Email Templates   \n",
       "23    Researched Outreach Email Templates   \n",
       "24    Researched Outreach Email Templates   \n",
       "25    Researched Outreach Email Templates   \n",
       "26    Researched Outreach Email Templates   \n",
       "27    Researched Outreach Email Templates   \n",
       "28    Researched Outreach Email Templates   \n",
       "29    Researched Outreach Email Templates   \n",
       "30    Researched Outreach Email Templates   \n",
       "...                                   ...   \n",
       "2370                                other   \n",
       "2371                                other   \n",
       "2372                                other   \n",
       "2373                                other   \n",
       "2374                                other   \n",
       "2375                                other   \n",
       "2376                                other   \n",
       "2377                                other   \n",
       "2378                                other   \n",
       "2379                                other   \n",
       "2380                                other   \n",
       "2381                                other   \n",
       "2382                                other   \n",
       "2383                                other   \n",
       "2384                                other   \n",
       "2385                                other   \n",
       "2386                                other   \n",
       "2387                                other   \n",
       "2388                                other   \n",
       "2389                                other   \n",
       "2390                                other   \n",
       "2391                                other   \n",
       "2392                                other   \n",
       "2393                                other   \n",
       "2394                                other   \n",
       "2395                                other   \n",
       "2396                                other   \n",
       "2397                                other   \n",
       "2398                                other   \n",
       "2399                                other   \n",
       "\n",
       "                                                  email  index  labels  \n",
       "0     Hi ,My name is aimee with {Your Company,We hel...      0       0  \n",
       "1     Hi Mike,\\r\\n\\r\\nMy name is Nick and I’m a co-f...      1       0  \n",
       "2     I'd like to discuss your lead gen efforts.\\r\\n...      2       0  \n",
       "3     Hi {name},\\r\\n\\r\\n{myName} from {myCompany} he...      3       0  \n",
       "4     Hi {name},\\r\\n\\r\\nI’m trying to figure out who...      4       0  \n",
       "5     Hello {name},\\r\\n\\r\\nWhat would it mean to you...      5       0  \n",
       "6     Hi {name},\\r\\n\\r\\nI hope this note finds you w...      6       0  \n",
       "7     {name},\\r\\n\\r\\nI am doing some research on you...      7       0  \n",
       "8     {name},\\r\\n\\r\\nI’m hoping you can help me, who...      8       0  \n",
       "9     I’m sorry to trouble you. Can you tell me who ...      9       0  \n",
       "10    We have a service that will help you [insert q...     10       0  \n",
       "11    We have a service that will help you [insert q...     11       0  \n",
       "12    I was wondering if you were looking for more b...     12       0  \n",
       "13    Hello {name},\\r\\n\\r\\nI have an idea that I can...     13       0  \n",
       "14    Hi {name},\\r\\n\\r\\nThis is {salesrep} with RJMe...     14       0  \n",
       "15    Hi {name},\\r\\n\\r\\nThis is SDR with RJMetrics. ...     15       0  \n",
       "16    {name},\\r\\n\\r\\nBookkeeping sucks, and you have...     16       0  \n",
       "17    Hi {name},\\r\\n\\r\\nI am writing in hopes of fin...     17       0  \n",
       "18    Hi {name},\\r\\n\\r\\nI am writing in hopes of fin...     18       0  \n",
       "19    I am doing some research on ________ to determ...     19       0  \n",
       "20    I’ll be honest, this is not “another sales pit...     20       0  \n",
       "21    Hi Eric,\\r\\n\\r\\nI understand you are the CEO a...     21       0  \n",
       "23    Hey {name},Here are some commonalities between...     23       1  \n",
       "24    Hi {Prospect's first name},\\r\\n\\r\\nI recently ...     24       1  \n",
       "25    I read in the WSJ yesterday that you're expect...     25       1  \n",
       "26    Hey {name},\\r\\n\\r\\nBeen a huge fan of your sit...     26       1  \n",
       "27    You did an excellent job speaking at the recen...     27       1  \n",
       "28    Hi {name},I noticed you guys don't have a comm...     28       1  \n",
       "29    I noticed on your website that xyz is a custom...     29       1  \n",
       "30    Hi {name},I understand you may currently be us...     30       1  \n",
       "...                                                 ...    ...     ...  \n",
       "2370  Greg,I faxed you the promotional on 10300 Heri...    462      10  \n",
       "2371  Jim,Take a look at this spreadsheet.  I tried ...    463      10  \n",
       "2372  Mery,This sounds better than the limitations y...    464      10  \n",
       "2373  Jim,I received your email on the Killeen post ...    465      10  \n",
       "2374  Bob,The application for the variance states th...    466      10  \n",
       "2375  Steve,I need help determining how much margin ...    467      10  \n",
       "2376  Tim,Have you considered reducing the scope or ...    468      10  \n",
       "2377  -----Original Message-----Yes I have.Terminate...    469      10  \n",
       "2378  I would like more detail about how much margin...    470      10  \n",
       "2379  Jeff,Jacques Craig will draw up a release.  Wh...    471      10  \n",
       "2380  When can we reschedule the meeting regarding p...    472      10  \n",
       "2381  I would like to achieve a yield of 5%.  I am e...    473      10  \n",
       "2382  I am still using my home Nortel VPN access.---...    474      10  \n",
       "2383  What are the specifics of those bonds are they...    475      10  \n",
       "2384  Let's start with $1 million.-----Original Mess...    476      10  \n",
       "2385  Bob,I turned in the application for a variance...    477      10  \n",
       "2386  Please review. =20Greg,After making an electio...    478      10  \n",
       "2387  The spreadsheet you sent will not open up and ...    479      10  \n",
       "2388  Mery,I will not be in the office on Thursday. ...    480      10  \n",
       "2389  Jim,I realize you are excited about these post...    481      10  \n",
       "2390  Tony,Here is the completed worksheet.  I also ...    482      10  \n",
       "2391               The west desk would like 2 analysts.    483      10  \n",
       "2392  Pam please review.  I don't want to misreprese...    484      10  \n",
       "2393  Greg,After making an election in October to re...    485      10  \n",
       "2394  Yevgeny,Please send me an email describing the...    486      10  \n",
       "2395  Mike & Tony,Rather than fill in the design sel...    487      10  \n",
       "2396  -----Original Message-----Mike & Tony,Rather t...    488      10  \n",
       "2397  Mery,Are we scheduled to meet tomorrow at 10 A...    489      10  \n",
       "2398  Jim,Your spreadsheet shows the same type of re...    490      10  \n",
       "2399  Attached is the final version of the Californi...    491      10  \n",
       "\n",
       "[473 rows x 4 columns]"
      ]
     },
     "execution_count": 65,
     "metadata": {},
     "output_type": "execute_result"
    }
   ],
   "source": [
    "df_result['labels'] = df_result['label'].factorize()[0]\n",
    "df_result = df_result.drop_duplicates(\"email\")\n",
    "df_result = df_result.dropna()\n",
    "df_result"
   ]
  },
  {
   "cell_type": "code",
   "execution_count": 66,
   "metadata": {
    "collapsed": true
   },
   "outputs": [],
   "source": [
    "# df_result.email"
   ]
  },
  {
   "cell_type": "code",
   "execution_count": null,
   "metadata": {
    "collapsed": true
   },
   "outputs": [],
   "source": []
  },
  {
   "cell_type": "code",
   "execution_count": 67,
   "metadata": {
    "collapsed": true
   },
   "outputs": [],
   "source": [
    "result_dict=df_result.set_index('labels')[\"label\"].to_dict()"
   ]
  },
  {
   "cell_type": "code",
   "execution_count": 68,
   "metadata": {
    "collapsed": false,
    "scrolled": true
   },
   "outputs": [
    {
     "data": {
      "image/png": "[encoded data removed]",
      "text/plain": [
       "<Figure size 576x432 with 1 Axes>"
      ]
     },
     "metadata": {},
     "output_type": "display_data"
    }
   ],
   "source": [
    "import matplotlib.pyplot as plt\n",
    "fig = plt.figure(figsize=(8,6))\n",
    "df_result.groupby('label').email.count().plot.bar(ylim=0)\n",
    "plt.show()"
   ]
  },
  {
   "cell_type": "code",
   "execution_count": 69,
   "metadata": {
    "collapsed": true
   },
   "outputs": [],
   "source": [
    "# def remove_numbers(tokened_text):\n",
    "#     no_digits = []\n",
    "    \n",
    "# # Iterate through the string, adding non-numbers to the no_digits list\n",
    "#     for i in tokened_text:\n",
    "#         output = re.sub(r'\\d+', '',i )\n",
    "#         no_digits.append(output)\n",
    "#     return no_digits\n",
    "\n",
    "# def remove_email_address(tokened_text):\n",
    "#     no_com = []\n",
    "    \n",
    "# # Iterate through the string, adding non-numbers to the no_digits list\n",
    "#     for i in tokened_text:\n",
    "#         ii=i.lower()\n",
    "#         if 'com' not in ii:\n",
    "#             no_com.append(i)\n",
    "#     return no_com\n",
    "\n",
    "# def remove_noise(text):\n",
    "#     no_noise =[]\n",
    "#     for t in text:\n",
    "#         if t not in noise_list:\n",
    "#             no_noise.append(t)\n",
    "#     return no_noise"
   ]
  },
  {
   "cell_type": "code",
   "execution_count": 70,
   "metadata": {
    "collapsed": true
   },
   "outputs": [],
   "source": [
    "noise_list = ['**********************************************************************',\n",
    "              '--','...',\"'s\",'.//////////////////////////////////////////////',\n",
    "              'simply', 'paul','hi','hello',\"n't\",\n",
    "              'hennessy']\n",
    "words_to_exclude = set(stopwords.words('english'))\n",
    "exclude = set(string.punctuation)"
   ]
  },
  {
   "cell_type": "code",
   "execution_count": 71,
   "metadata": {
    "collapsed": true
   },
   "outputs": [],
   "source": [
    "def process_message(df, stem = True, gram = 2):\n",
    "    clean_data_set=[]\n",
    "    train_data = df_result.email\n",
    "    data_arr=[]\n",
    "    for e_arr in train_data:\n",
    "        data_arr.append([e_arr])\n",
    "    # print(data_arr)\n",
    "\n",
    "    lower_case=[]\n",
    "    for d in data_arr:\n",
    "        str1 = ''.join((str(e) for e in d))\n",
    "    #     print(str1.lower())\n",
    "        w = word_tokenize(str1.lower())\n",
    "        lower_case.append(w)\n",
    "    # print(lower_case)  \n",
    "\n",
    "    punc_free=[]\n",
    "    for w in lower_case:\n",
    "        punc=[]\n",
    "        punc_free.append([word for word in w if word not in exclude])\n",
    "#     print(punc_free)\n",
    "    no_sw=[]\n",
    "    for pf in punc_free:\n",
    "        no_sw.append([pf1 for pf1 in pf if pf1 not in words_to_exclude])\n",
    "    # print(no_sw)\n",
    "    no_noise = []\n",
    "    for ns in no_sw:\n",
    "        no_noise.append([word for word in ns if word not in noise_list])\n",
    "#     print(no_noise)\n",
    "    no_email=[]\n",
    "    for i in no_noise:\n",
    "        no_email.append([ii for ii in i if 'com' not in ii])\n",
    "#     print(no_email)*\n",
    "    no_starsign=[]\n",
    "    for i in no_email:\n",
    "        no_starsign.append([ii for ii in i if '*' not in ii])\n",
    "        \n",
    "    no_starsign1=[]\n",
    "    for i in no_starsign:\n",
    "        no_starsign1.append([ii for ii in i if '=' not in ii])\n",
    "    no_starsign2=[]\n",
    "    for i in no_starsign1:\n",
    "        no_starsign2.append([ii for ii in i if '/' not in ii])\n",
    "    no_starsign3=[]\n",
    "    for i in no_starsign2:\n",
    "        no_starsign3.append([ii for ii in i if '``' not in ii])   \n",
    "    no_digits = []   \n",
    "    # Iterate through the string, adding non-numbers to the no_digits list\n",
    "    for i in no_starsign3:\n",
    "        arr = []\n",
    "        for ii in i:\n",
    "            output = re.sub(r'\\d+', '',ii)\n",
    "            arr.append(output)\n",
    "        no_digits.append(arr)\n",
    "#     print(no_digits)\n",
    "\n",
    "    dataset = [w for w in no_digits if len(w) >= 0]\n",
    "    pre_data=[]\n",
    "    for ds in dataset:\n",
    "        w_gram = []\n",
    "        if gram > 1:\n",
    "            for i in range(len(ds) - gram + 1):\n",
    "                w_gram += [' '.join(ds[i:i + gram])]\n",
    "    #     print(w_gram)\n",
    "        \n",
    "        stem_w = []\n",
    "        if stem:\n",
    "            stemmer = PorterStemmer()\n",
    "            stem_w = [stemmer.stem(word) for word in w_gram]   \n",
    "        pre_data.append(stem_w)\n",
    "#     clean_data_set.append(pre_data)\n",
    "    # print(clean_data_set)\n",
    "    return pre_data"
   ]
  },
  {
   "cell_type": "code",
   "execution_count": 1,
   "metadata": {
    "collapsed": false,
    "scrolled": true
   },
   "outputs": [
    {
     "ename": "NameError",
     "evalue": "name 'process_message' is not defined",
     "output_type": "error",
     "traceback": [
      "\u001b[0;31m---------------------------------------------------------------------------\u001b[0m",
      "\u001b[0;31mNameError\u001b[0m                                 Traceback (most recent call last)",
      "\u001b[0;32m<ipython-input-1-d6abf8ad8068>\u001b[0m in \u001b[0;36m<module>\u001b[0;34m()\u001b[0m\n\u001b[0;32m----> 1\u001b[0;31m \u001b[0mclean_data_set\u001b[0m \u001b[0;34m=\u001b[0m \u001b[0mprocess_message\u001b[0m\u001b[0;34m(\u001b[0m\u001b[0mdf_result\u001b[0m\u001b[0;34m)\u001b[0m\u001b[0;34m\u001b[0m\u001b[0m\n\u001b[0m",
      "\u001b[0;31mNameError\u001b[0m: name 'process_message' is not defined"
     ]
    }
   ],
   "source": [
    "clean_data_set = process_message(df_result)\n"
   ]
  },
  {
   "cell_type": "code",
   "execution_count": 73,
   "metadata": {
    "collapsed": false
   },
   "outputs": [
    {
     "data": {
      "text/plain": [
       "473"
      ]
     },
     "execution_count": 73,
     "metadata": {},
     "output_type": "execute_result"
    }
   ],
   "source": [
    "len(clean_data_set)"
   ]
  },
  {
   "cell_type": "code",
   "execution_count": 74,
   "metadata": {
    "collapsed": true
   },
   "outputs": [],
   "source": [
    "# clean_sales_data = process_message_sale(df_sales)\n",
    "# clean_sales_data_set = []\n",
    "# for i in clean_sales_data:\n",
    "#     if i not in clean_sales_data_set:\n",
    "#         clean_sales_data_set.append(i)\n",
    "# clean_sales_data_set"
   ]
  },
  {
   "cell_type": "code",
   "execution_count": 75,
   "metadata": {
    "collapsed": true
   },
   "outputs": [],
   "source": [
    "# clean_data_test = process_message_sale(testData)"
   ]
  },
  {
   "cell_type": "code",
   "execution_count": 76,
   "metadata": {
    "collapsed": true,
    "scrolled": true
   },
   "outputs": [],
   "source": [
    "# from collections import defaultdict\n",
    "\n",
    "# D = defaultdict(int)\n",
    "# for word in clean_sales_data:\n",
    "#     D[word] += 1\n"
   ]
  },
  {
   "cell_type": "markdown",
   "metadata": {},
   "source": [
    "# output top 20 words"
   ]
  },
  {
   "cell_type": "code",
   "execution_count": 67,
   "metadata": {
    "collapsed": true
   },
   "outputs": [],
   "source": [
    "def select_top_k_words(words, k):\n",
    "    b = np.concatenate(words).ravel()\n",
    "    c_total = Counter(b)\n",
    "    d = {}\n",
    "    for key, value in c_total.items():\n",
    "        d[key] = value\n",
    "        sorted_d = sorted(d.items(), key=operator.itemgetter(1))\n",
    "        top_k_words = [i[0] for i in sorted_d[:k][::-1]]\n",
    "    return top_k_words"
   ]
  },
  {
   "cell_type": "code",
   "execution_count": 87,
   "metadata": {
    "collapsed": true
   },
   "outputs": [],
   "source": [
    "# top_k_words=select_top_k_words(clean_sales_data,50)"
   ]
  },
  {
   "cell_type": "code",
   "execution_count": 69,
   "metadata": {
    "collapsed": true
   },
   "outputs": [],
   "source": [
    "# clean_sales_data_set = [y for x in clean_sales_data for y in x]"
   ]
  },
  {
   "cell_type": "markdown",
   "metadata": {},
   "source": [
    "# find the email which contains the top words"
   ]
  },
  {
   "cell_type": "code",
   "execution_count": 30,
   "metadata": {
    "collapsed": true
   },
   "outputs": [],
   "source": [
    "def intersect(a, b):\n",
    "    return list(set(a) & set(b))"
   ]
  },
  {
   "cell_type": "code",
   "execution_count": 31,
   "metadata": {
    "collapsed": true,
    "scrolled": true
   },
   "outputs": [],
   "source": [
    "top_email = []\n",
    "for cd in clean_sales_data:\n",
    "    top_email.append(intersect(top_k_words,cd))\n",
    "#     top_email = [x for x in top_email if x]\n",
    "top_email_df = pd.DataFrame({'token_email':top_email,\"index\":df_sales.index})\n",
    "# top_email_df= top_email_df.dropna(subset=['token_email'], inplace=True)\n",
    "# top_email_df"
   ]
  },
  {
   "cell_type": "markdown",
   "metadata": {},
   "source": [
    "# Running LDA using Bag of Words"
   ]
  },
  {
   "cell_type": "code",
   "execution_count": 82,
   "metadata": {
    "collapsed": false
   },
   "outputs": [
    {
     "name": "stdout",
     "output_type": "stream",
     "text": [
      "Topic: 0 \n",
      "Words: 0.005*\"data system\" + 0.005*\"systems curr\" + 0.005*\"platform built\" + 0.005*\"possible data\" + 0.005*\"currently market\" + 0.005*\"writing poss\" + 0.004*\"market test\" + 0.004*\"lead provid\" + 0.004*\"built lead\" + 0.004*\"testing unreleas\"\n",
      "Topic: 1 \n",
      "Words: 0.010*\"image imag\" + 0.005*\". .\" + 0.003*\" \" + 0.003*\"buy //\" + 0.001*\"= imag\" + 0.001*\"strong buy\" + 0.001*\". -.\" + 0.001*\", ,\" + 0.001*\"image =\" + 0.001*\"coverage initi\"\n",
      "Topic: 2 \n",
      "Words: 0.002*\" \" + 0.002*\". .\" + 0.002*\"-original messag\" + 0.001*\"data system\" + 0.001*\" -\" + 0.001*\"let know\" + 0.001*\"email cont\" + 0.001*\"write email\" + 0.001*\"use control\" + 0.001*\"controls past\"\n"
     ]
    }
   ],
   "source": [
    "dictionary = gensim.corpora.Dictionary(clean_data_set)\n",
    "bow_corpus = [dictionary.doc2bow(doc) for doc in clean_data_set]\n",
    "\n",
    "lda_model = gensim.models.LdaMulticore(bow_corpus, num_topics=3, id2word=dictionary, passes=2, workers=2)\n",
    "for idx, topic in lda_model.print_topics(-1):\n",
    "    print('Topic: {} \\nWords: {}'.format(idx, topic))"
   ]
  },
  {
   "cell_type": "code",
   "execution_count": 80,
   "metadata": {
    "collapsed": false
   },
   "outputs": [
    {
     "data": {
      "text/plain": [
       "473"
      ]
     },
     "execution_count": 80,
     "metadata": {},
     "output_type": "execute_result"
    }
   ],
   "source": [
    "len(clean_data_set)"
   ]
  },
  {
   "cell_type": "code",
   "execution_count": 81,
   "metadata": {
    "collapsed": true
   },
   "outputs": [],
   "source": [
    "str_=[]\n",
    "for c in clean_data_set:\n",
    "    str_.append(\" \".join(c))\n",
    "# str_"
   ]
  },
  {
   "cell_type": "code",
   "execution_count": 119,
   "metadata": {
    "collapsed": false
   },
   "outputs": [
    {
     "data": {
      "text/html": [
       "<div>\n",
       "<style scoped>\n",
       "    .dataframe tbody tr th:only-of-type {\n",
       "        vertical-align: middle;\n",
       "    }\n",
       "\n",
       "    .dataframe tbody tr th {\n",
       "        vertical-align: top;\n",
       "    }\n",
       "\n",
       "    .dataframe thead th {\n",
       "        text-align: right;\n",
       "    }\n",
       "</style>\n",
       "<table border=\"1\" class=\"dataframe\">\n",
       "  <thead>\n",
       "    <tr style=\"text-align: right;\">\n",
       "      <th></th>\n",
       "      <th>email</th>\n",
       "      <th>label</th>\n",
       "      <th>index</th>\n",
       "      <th>labels</th>\n",
       "    </tr>\n",
       "  </thead>\n",
       "  <tbody>\n",
       "    <tr>\n",
       "      <th>0</th>\n",
       "      <td>name aime aimee help help specif specific typ ...</td>\n",
       "      <td>Cold Email Templates</td>\n",
       "      <td>0</td>\n",
       "      <td>0</td>\n",
       "    </tr>\n",
       "    <tr>\n",
       "      <th>1</th>\n",
       "      <td>mike nam name nick nick ’ ’ co-found co-founde...</td>\n",
       "      <td>Cold Email Templates</td>\n",
       "      <td>1</td>\n",
       "      <td>0</td>\n",
       "    </tr>\n",
       "    <tr>\n",
       "      <th>2</th>\n",
       "      <td>'d like like discuss discuss lead lead gen gen...</td>\n",
       "      <td>Cold Email Templates</td>\n",
       "      <td>2</td>\n",
       "      <td>0</td>\n",
       "    </tr>\n",
       "    <tr>\n",
       "      <th>3</th>\n",
       "      <td>name mynam myname mak make sal sales consist c...</td>\n",
       "      <td>Cold Email Templates</td>\n",
       "      <td>3</td>\n",
       "      <td>0</td>\n",
       "    </tr>\n",
       "    <tr>\n",
       "      <th>4</th>\n",
       "      <td>name ’ ’ tri trying figur figure charg charge ...</td>\n",
       "      <td>Cold Email Templates</td>\n",
       "      <td>4</td>\n",
       "      <td>0</td>\n",
       "    </tr>\n",
       "  </tbody>\n",
       "</table>\n",
       "</div>"
      ],
      "text/plain": [
       "                                               email                 label  \\\n",
       "0  name aime aimee help help specif specific typ ...  Cold Email Templates   \n",
       "1  mike nam name nick nick ’ ’ co-found co-founde...  Cold Email Templates   \n",
       "2  'd like like discuss discuss lead lead gen gen...  Cold Email Templates   \n",
       "3  name mynam myname mak make sal sales consist c...  Cold Email Templates   \n",
       "4  name ’ ’ tri trying figur figure charg charge ...  Cold Email Templates   \n",
       "\n",
       "   index  labels  \n",
       "0      0       0  \n",
       "1      1       0  \n",
       "2      2       0  \n",
       "3      3       0  \n",
       "4      4       0  "
      ]
     },
     "execution_count": 119,
     "metadata": {},
     "output_type": "execute_result"
    }
   ],
   "source": [
    "df = pd.DataFrame({'email':str_,\"label\":df_result.label,\"index\":df_result.index,\"labels\":df_result.labels})\n",
    "df = df.drop_duplicates(\"email\")\n",
    "df = df.dropna()\n",
    "df.head()"
   ]
  },
  {
   "cell_type": "code",
   "execution_count": 133,
   "metadata": {
    "collapsed": false
   },
   "outputs": [
    {
     "ename": "ValueError",
     "evalue": "Expected 2D array, got 1D array instead:\narray=[ 0.  0.  0.  0.  0.  0.  0.  0.  0.  0.  0.  0.  0.  0.  0.  0.  0.  0.\n  0.  0.  0.  0.  1.  1.  1.  1.  1.  1.  1.  1.  1.  2.  3.  3.  3.  3.\n  4.  4.  4.  4.  4.  4.  4.  4.  4.  4.  4.  4.  4.  4.  4.  4.  4.  4.\n  4.  5.  5.  5.  5.  5.  5.  5.  5.  6.  6.  6.  6.  6.  7.  7.  8.  8.\n  8.  8.  8.  8.  8.  8.  8.  8.  8.  8.  8.  8.  8.  8.  9.  9.  9. 10.\n 10. 10. 10. 10. 10. 10. 10. 10. 10. 10. 10. 10. 10. 10. 10. 10. 10. 10.\n 10. 10. 10. 10. 10. 10. 10. 10. 10. 10. 10. 10. 10. 10. 10. 10. 10. 10.\n 10. 10. 10. 10. 10. 10. 10. 10. 10. 10. 10. 10. 10. 10. 10. 10. 10. 10.\n 10. 10. 10. 10. 10. 10. 10. 10. 10. 10. 10. 10. 10. 10. 10. 10. 10. 10.\n 10. 10. 10. 10. 10. 10. 10. 10. 10. 10. 10. 10. 10. 10. 10. 10. 10. 10.\n 10. 10. 10. 10. 10. 10. 10. 10. 10. 10. 10. 10. 10. 10. 10. 10. 10. 10.\n 10. 10. 10. 10. 10. 10. 10. 10. 10. 10. 10. 10. 10. 10. 10. 10. 10. 10.\n 10. 10. 10. 10. 10. 10. 10. 10. 10. 10. 10. 10. 10. 10. 10. 10. 10. 10.\n 10. 10. 10. 10. 10. 10. 10. 10. 10. 10. 10. 10. 10. 10. 10. 10. 10. 10.\n 10. 10. 10. 10. 10. 10. 10. 10. 10. 10. 10. 10. 10. 10. 10. 10. 10. 10.\n 10. 10. 10. 10. 10. 10. 10. 10. 10. 10. 10. 10. 10. 10. 10. 10. 10. 10.\n 10. 10. 10. 10. 10. 10. 10. 10. 10. 10. 10. 10. 10. 10. 10. 10. 10. 10.\n 10. 10. 10. 10. 10. 10. 10. 10. 10. 10. 10. 10. 10. 10. 10. 10. 10. 10.\n 10. 10. 10. 10. 10. 10. 10. 10. 10. 10. 10. 10. 10. 10. 10. 10. 10. 10.\n 10. 10. 10. 10. 10. 10. 10. 10. 10. 10. 10. 10. 10. 10. 10. 10. 10. 10.\n 10. 10. 10. 10. 10. 10. 10. 10. 10. 10. 10. 10. 10. 10. 10. 10. 10. 10.\n 10. 10. 10. 10. 10. 10. 10. 10. 10. 10. 10. 10. 10. 10. 10. 10. 10. 10.\n 10. 10. 10. 10. 10. 10. 10. 10. 10. 10. 10. 10. 10. 10. 10. 10. 10. 10.\n 10. 10. 10. 10. 10. 10. 10. 10. 10. 10. 10. 10. 10. 10. 10. 10. 10. 10.\n 10. 10. 10. 10. 10. 10. 10. 10. 10. 10. 10. 10. 10. 10. 10. 10. 10. 10.\n 10. 10. 10. 10. 10. 10. 10. 10. 10. 10. 10. 10. 10. 10. 10. 10. 10.].\nReshape your data either using array.reshape(-1, 1) if your data has a single feature or array.reshape(1, -1) if it contains a single sample.",
     "output_type": "error",
     "traceback": [
      "\u001b[1;31m---------------------------------------------------------------------------\u001b[0m",
      "\u001b[1;31mValueError\u001b[0m                                Traceback (most recent call last)",
      "\u001b[1;32m<ipython-input-133-cbbc4524dc0c>\u001b[0m in \u001b[0;36m<module>\u001b[1;34m()\u001b[0m\n\u001b[0;32m      7\u001b[0m \u001b[0mohe\u001b[0m \u001b[1;33m=\u001b[0m \u001b[0mpreprocessing\u001b[0m\u001b[1;33m.\u001b[0m\u001b[0mOneHotEncoder\u001b[0m\u001b[1;33m(\u001b[0m\u001b[0msparse\u001b[0m\u001b[1;33m=\u001b[0m\u001b[1;32mFalse\u001b[0m\u001b[1;33m)\u001b[0m\u001b[1;33m\u001b[0m\u001b[0m\n\u001b[0;32m      8\u001b[0m \u001b[1;31m# 3. Transform\u001b[0m\u001b[1;33m\u001b[0m\u001b[1;33m\u001b[0m\u001b[0m\n\u001b[1;32m----> 9\u001b[1;33m \u001b[0monehotlabels\u001b[0m \u001b[1;33m=\u001b[0m \u001b[0mohe\u001b[0m\u001b[1;33m.\u001b[0m\u001b[0mfit_transform\u001b[0m\u001b[1;33m(\u001b[0m\u001b[0mnew_df_features\u001b[0m\u001b[1;33m)\u001b[0m\u001b[1;33m.\u001b[0m\u001b[0mtoarray\u001b[0m\u001b[1;33m(\u001b[0m\u001b[1;33m)\u001b[0m\u001b[1;33m\u001b[0m\u001b[0m\n\u001b[0m\u001b[0;32m     10\u001b[0m \u001b[1;31m# onehotlabels.shape\u001b[0m\u001b[1;33m\u001b[0m\u001b[1;33m\u001b[0m\u001b[0m\n",
      "\u001b[1;32m~\\Anaconda3\\lib\\site-packages\\sklearn\\preprocessing\\data.py\u001b[0m in \u001b[0;36mfit_transform\u001b[1;34m(self, X, y)\u001b[0m\n\u001b[0;32m   2017\u001b[0m         \"\"\"\n\u001b[0;32m   2018\u001b[0m         return _transform_selected(X, self._fit_transform,\n\u001b[1;32m-> 2019\u001b[1;33m                                    self.categorical_features, copy=True)\n\u001b[0m\u001b[0;32m   2020\u001b[0m \u001b[1;33m\u001b[0m\u001b[0m\n\u001b[0;32m   2021\u001b[0m     \u001b[1;32mdef\u001b[0m \u001b[0m_transform\u001b[0m\u001b[1;33m(\u001b[0m\u001b[0mself\u001b[0m\u001b[1;33m,\u001b[0m \u001b[0mX\u001b[0m\u001b[1;33m)\u001b[0m\u001b[1;33m:\u001b[0m\u001b[1;33m\u001b[0m\u001b[0m\n",
      "\u001b[1;32m~\\Anaconda3\\lib\\site-packages\\sklearn\\preprocessing\\data.py\u001b[0m in \u001b[0;36m_transform_selected\u001b[1;34m(X, transform, selected, copy)\u001b[0m\n\u001b[0;32m   1807\u001b[0m     \u001b[0mX\u001b[0m \u001b[1;33m:\u001b[0m \u001b[0marray\u001b[0m \u001b[1;32mor\u001b[0m \u001b[0msparse\u001b[0m \u001b[0mmatrix\u001b[0m\u001b[1;33m,\u001b[0m \u001b[0mshape\u001b[0m\u001b[1;33m=\u001b[0m\u001b[1;33m(\u001b[0m\u001b[0mn_samples\u001b[0m\u001b[1;33m,\u001b[0m \u001b[0mn_features_new\u001b[0m\u001b[1;33m)\u001b[0m\u001b[1;33m\u001b[0m\u001b[0m\n\u001b[0;32m   1808\u001b[0m     \"\"\"\n\u001b[1;32m-> 1809\u001b[1;33m     \u001b[0mX\u001b[0m \u001b[1;33m=\u001b[0m \u001b[0mcheck_array\u001b[0m\u001b[1;33m(\u001b[0m\u001b[0mX\u001b[0m\u001b[1;33m,\u001b[0m \u001b[0maccept_sparse\u001b[0m\u001b[1;33m=\u001b[0m\u001b[1;34m'csc'\u001b[0m\u001b[1;33m,\u001b[0m \u001b[0mcopy\u001b[0m\u001b[1;33m=\u001b[0m\u001b[0mcopy\u001b[0m\u001b[1;33m,\u001b[0m \u001b[0mdtype\u001b[0m\u001b[1;33m=\u001b[0m\u001b[0mFLOAT_DTYPES\u001b[0m\u001b[1;33m)\u001b[0m\u001b[1;33m\u001b[0m\u001b[0m\n\u001b[0m\u001b[0;32m   1810\u001b[0m \u001b[1;33m\u001b[0m\u001b[0m\n\u001b[0;32m   1811\u001b[0m     \u001b[1;32mif\u001b[0m \u001b[0misinstance\u001b[0m\u001b[1;33m(\u001b[0m\u001b[0mselected\u001b[0m\u001b[1;33m,\u001b[0m \u001b[0msix\u001b[0m\u001b[1;33m.\u001b[0m\u001b[0mstring_types\u001b[0m\u001b[1;33m)\u001b[0m \u001b[1;32mand\u001b[0m \u001b[0mselected\u001b[0m \u001b[1;33m==\u001b[0m \u001b[1;34m\"all\"\u001b[0m\u001b[1;33m:\u001b[0m\u001b[1;33m\u001b[0m\u001b[0m\n",
      "\u001b[1;32m~\\Anaconda3\\lib\\site-packages\\sklearn\\utils\\validation.py\u001b[0m in \u001b[0;36mcheck_array\u001b[1;34m(array, accept_sparse, dtype, order, copy, force_all_finite, ensure_2d, allow_nd, ensure_min_samples, ensure_min_features, warn_on_dtype, estimator)\u001b[0m\n\u001b[0;32m    439\u001b[0m                     \u001b[1;34m\"Reshape your data either using array.reshape(-1, 1) if \"\u001b[0m\u001b[1;33m\u001b[0m\u001b[0m\n\u001b[0;32m    440\u001b[0m                     \u001b[1;34m\"your data has a single feature or array.reshape(1, -1) \"\u001b[0m\u001b[1;33m\u001b[0m\u001b[0m\n\u001b[1;32m--> 441\u001b[1;33m                     \"if it contains a single sample.\".format(array))\n\u001b[0m\u001b[0;32m    442\u001b[0m             \u001b[0marray\u001b[0m \u001b[1;33m=\u001b[0m \u001b[0mnp\u001b[0m\u001b[1;33m.\u001b[0m\u001b[0matleast_2d\u001b[0m\u001b[1;33m(\u001b[0m\u001b[0marray\u001b[0m\u001b[1;33m)\u001b[0m\u001b[1;33m\u001b[0m\u001b[0m\n\u001b[0;32m    443\u001b[0m             \u001b[1;31m# To ensure that array flags are maintained\u001b[0m\u001b[1;33m\u001b[0m\u001b[1;33m\u001b[0m\u001b[0m\n",
      "\u001b[1;31mValueError\u001b[0m: Expected 2D array, got 1D array instead:\narray=[ 0.  0.  0.  0.  0.  0.  0.  0.  0.  0.  0.  0.  0.  0.  0.  0.  0.  0.\n  0.  0.  0.  0.  1.  1.  1.  1.  1.  1.  1.  1.  1.  2.  3.  3.  3.  3.\n  4.  4.  4.  4.  4.  4.  4.  4.  4.  4.  4.  4.  4.  4.  4.  4.  4.  4.\n  4.  5.  5.  5.  5.  5.  5.  5.  5.  6.  6.  6.  6.  6.  7.  7.  8.  8.\n  8.  8.  8.  8.  8.  8.  8.  8.  8.  8.  8.  8.  8.  8.  9.  9.  9. 10.\n 10. 10. 10. 10. 10. 10. 10. 10. 10. 10. 10. 10. 10. 10. 10. 10. 10. 10.\n 10. 10. 10. 10. 10. 10. 10. 10. 10. 10. 10. 10. 10. 10. 10. 10. 10. 10.\n 10. 10. 10. 10. 10. 10. 10. 10. 10. 10. 10. 10. 10. 10. 10. 10. 10. 10.\n 10. 10. 10. 10. 10. 10. 10. 10. 10. 10. 10. 10. 10. 10. 10. 10. 10. 10.\n 10. 10. 10. 10. 10. 10. 10. 10. 10. 10. 10. 10. 10. 10. 10. 10. 10. 10.\n 10. 10. 10. 10. 10. 10. 10. 10. 10. 10. 10. 10. 10. 10. 10. 10. 10. 10.\n 10. 10. 10. 10. 10. 10. 10. 10. 10. 10. 10. 10. 10. 10. 10. 10. 10. 10.\n 10. 10. 10. 10. 10. 10. 10. 10. 10. 10. 10. 10. 10. 10. 10. 10. 10. 10.\n 10. 10. 10. 10. 10. 10. 10. 10. 10. 10. 10. 10. 10. 10. 10. 10. 10. 10.\n 10. 10. 10. 10. 10. 10. 10. 10. 10. 10. 10. 10. 10. 10. 10. 10. 10. 10.\n 10. 10. 10. 10. 10. 10. 10. 10. 10. 10. 10. 10. 10. 10. 10. 10. 10. 10.\n 10. 10. 10. 10. 10. 10. 10. 10. 10. 10. 10. 10. 10. 10. 10. 10. 10. 10.\n 10. 10. 10. 10. 10. 10. 10. 10. 10. 10. 10. 10. 10. 10. 10. 10. 10. 10.\n 10. 10. 10. 10. 10. 10. 10. 10. 10. 10. 10. 10. 10. 10. 10. 10. 10. 10.\n 10. 10. 10. 10. 10. 10. 10. 10. 10. 10. 10. 10. 10. 10. 10. 10. 10. 10.\n 10. 10. 10. 10. 10. 10. 10. 10. 10. 10. 10. 10. 10. 10. 10. 10. 10. 10.\n 10. 10. 10. 10. 10. 10. 10. 10. 10. 10. 10. 10. 10. 10. 10. 10. 10. 10.\n 10. 10. 10. 10. 10. 10. 10. 10. 10. 10. 10. 10. 10. 10. 10. 10. 10. 10.\n 10. 10. 10. 10. 10. 10. 10. 10. 10. 10. 10. 10. 10. 10. 10. 10. 10. 10.\n 10. 10. 10. 10. 10. 10. 10. 10. 10. 10. 10. 10. 10. 10. 10. 10. 10. 10.\n 10. 10. 10. 10. 10. 10. 10. 10. 10. 10. 10. 10. 10. 10. 10. 10. 10.].\nReshape your data either using array.reshape(-1, 1) if your data has a single feature or array.reshape(1, -1) if it contains a single sample."
     ]
    }
   ],
   "source": [
    "from sklearn import preprocessing\n",
    "enc = preprocessing.LabelEncoder()\n",
    "# 2. FIT\n",
    "enc.fit(df.labels)\n",
    "new_df_features = enc.transform(df.labels)\n",
    "new_df_features.reshape(-1, 1)\n",
    "ohe = preprocessing.OneHotEncoder(sparse=False)\n",
    "# 3. Transform\n",
    "onehotlabels = ohe.fit_transform(new_df_features).toarray()\n",
    "# onehotlabels.shape"
   ]
  },
  {
   "cell_type": "code",
   "execution_count": 120,
   "metadata": {
    "collapsed": false,
    "scrolled": true
   },
   "outputs": [
    {
     "ename": "ValueError",
     "evalue": "could not convert string to float: 'other'",
     "output_type": "error",
     "traceback": [
      "\u001b[1;31m---------------------------------------------------------------------------\u001b[0m",
      "\u001b[1;31mValueError\u001b[0m                                Traceback (most recent call last)",
      "\u001b[1;32m<ipython-input-120-f3e5373487ff>\u001b[0m in \u001b[0;36m<module>\u001b[1;34m()\u001b[0m\n\u001b[0;32m      1\u001b[0m \u001b[1;32mfrom\u001b[0m \u001b[0msklearn\u001b[0m\u001b[1;33m.\u001b[0m\u001b[0mpreprocessing\u001b[0m \u001b[1;32mimport\u001b[0m \u001b[0mOneHotEncoder\u001b[0m\u001b[1;33m\u001b[0m\u001b[0m\n\u001b[0;32m      2\u001b[0m \u001b[0monehotencoder\u001b[0m \u001b[1;33m=\u001b[0m \u001b[0mOneHotEncoder\u001b[0m\u001b[1;33m(\u001b[0m\u001b[0mcategorical_features\u001b[0m \u001b[1;33m=\u001b[0m \u001b[1;33m[\u001b[0m\u001b[1;36m0\u001b[0m\u001b[1;33m]\u001b[0m\u001b[1;33m)\u001b[0m\u001b[1;33m\u001b[0m\u001b[0m\n\u001b[1;32m----> 3\u001b[1;33m \u001b[0mx\u001b[0m \u001b[1;33m=\u001b[0m \u001b[0monehotencoder\u001b[0m\u001b[1;33m.\u001b[0m\u001b[0mfit_transform\u001b[0m\u001b[1;33m(\u001b[0m\u001b[0mdf\u001b[0m\u001b[1;33m.\u001b[0m\u001b[0mlabel\u001b[0m\u001b[1;33m)\u001b[0m\u001b[1;33m.\u001b[0m\u001b[0mtoarray\u001b[0m\u001b[1;33m(\u001b[0m\u001b[1;33m)\u001b[0m\u001b[1;33m\u001b[0m\u001b[0m\n\u001b[0m",
      "\u001b[1;32m~\\Anaconda3\\lib\\site-packages\\sklearn\\preprocessing\\data.py\u001b[0m in \u001b[0;36mfit_transform\u001b[1;34m(self, X, y)\u001b[0m\n\u001b[0;32m   2017\u001b[0m         \"\"\"\n\u001b[0;32m   2018\u001b[0m         return _transform_selected(X, self._fit_transform,\n\u001b[1;32m-> 2019\u001b[1;33m                                    self.categorical_features, copy=True)\n\u001b[0m\u001b[0;32m   2020\u001b[0m \u001b[1;33m\u001b[0m\u001b[0m\n\u001b[0;32m   2021\u001b[0m     \u001b[1;32mdef\u001b[0m \u001b[0m_transform\u001b[0m\u001b[1;33m(\u001b[0m\u001b[0mself\u001b[0m\u001b[1;33m,\u001b[0m \u001b[0mX\u001b[0m\u001b[1;33m)\u001b[0m\u001b[1;33m:\u001b[0m\u001b[1;33m\u001b[0m\u001b[0m\n",
      "\u001b[1;32m~\\Anaconda3\\lib\\site-packages\\sklearn\\preprocessing\\data.py\u001b[0m in \u001b[0;36m_transform_selected\u001b[1;34m(X, transform, selected, copy)\u001b[0m\n\u001b[0;32m   1807\u001b[0m     \u001b[0mX\u001b[0m \u001b[1;33m:\u001b[0m \u001b[0marray\u001b[0m \u001b[1;32mor\u001b[0m \u001b[0msparse\u001b[0m \u001b[0mmatrix\u001b[0m\u001b[1;33m,\u001b[0m \u001b[0mshape\u001b[0m\u001b[1;33m=\u001b[0m\u001b[1;33m(\u001b[0m\u001b[0mn_samples\u001b[0m\u001b[1;33m,\u001b[0m \u001b[0mn_features_new\u001b[0m\u001b[1;33m)\u001b[0m\u001b[1;33m\u001b[0m\u001b[0m\n\u001b[0;32m   1808\u001b[0m     \"\"\"\n\u001b[1;32m-> 1809\u001b[1;33m     \u001b[0mX\u001b[0m \u001b[1;33m=\u001b[0m \u001b[0mcheck_array\u001b[0m\u001b[1;33m(\u001b[0m\u001b[0mX\u001b[0m\u001b[1;33m,\u001b[0m \u001b[0maccept_sparse\u001b[0m\u001b[1;33m=\u001b[0m\u001b[1;34m'csc'\u001b[0m\u001b[1;33m,\u001b[0m \u001b[0mcopy\u001b[0m\u001b[1;33m=\u001b[0m\u001b[0mcopy\u001b[0m\u001b[1;33m,\u001b[0m \u001b[0mdtype\u001b[0m\u001b[1;33m=\u001b[0m\u001b[0mFLOAT_DTYPES\u001b[0m\u001b[1;33m)\u001b[0m\u001b[1;33m\u001b[0m\u001b[0m\n\u001b[0m\u001b[0;32m   1810\u001b[0m \u001b[1;33m\u001b[0m\u001b[0m\n\u001b[0;32m   1811\u001b[0m     \u001b[1;32mif\u001b[0m \u001b[0misinstance\u001b[0m\u001b[1;33m(\u001b[0m\u001b[0mselected\u001b[0m\u001b[1;33m,\u001b[0m \u001b[0msix\u001b[0m\u001b[1;33m.\u001b[0m\u001b[0mstring_types\u001b[0m\u001b[1;33m)\u001b[0m \u001b[1;32mand\u001b[0m \u001b[0mselected\u001b[0m \u001b[1;33m==\u001b[0m \u001b[1;34m\"all\"\u001b[0m\u001b[1;33m:\u001b[0m\u001b[1;33m\u001b[0m\u001b[0m\n",
      "\u001b[1;32m~\\Anaconda3\\lib\\site-packages\\sklearn\\utils\\validation.py\u001b[0m in \u001b[0;36mcheck_array\u001b[1;34m(array, accept_sparse, dtype, order, copy, force_all_finite, ensure_2d, allow_nd, ensure_min_samples, ensure_min_features, warn_on_dtype, estimator)\u001b[0m\n\u001b[0;32m    431\u001b[0m                                       force_all_finite)\n\u001b[0;32m    432\u001b[0m     \u001b[1;32melse\u001b[0m\u001b[1;33m:\u001b[0m\u001b[1;33m\u001b[0m\u001b[0m\n\u001b[1;32m--> 433\u001b[1;33m         \u001b[0marray\u001b[0m \u001b[1;33m=\u001b[0m \u001b[0mnp\u001b[0m\u001b[1;33m.\u001b[0m\u001b[0marray\u001b[0m\u001b[1;33m(\u001b[0m\u001b[0marray\u001b[0m\u001b[1;33m,\u001b[0m \u001b[0mdtype\u001b[0m\u001b[1;33m=\u001b[0m\u001b[0mdtype\u001b[0m\u001b[1;33m,\u001b[0m \u001b[0morder\u001b[0m\u001b[1;33m=\u001b[0m\u001b[0morder\u001b[0m\u001b[1;33m,\u001b[0m \u001b[0mcopy\u001b[0m\u001b[1;33m=\u001b[0m\u001b[0mcopy\u001b[0m\u001b[1;33m)\u001b[0m\u001b[1;33m\u001b[0m\u001b[0m\n\u001b[0m\u001b[0;32m    434\u001b[0m \u001b[1;33m\u001b[0m\u001b[0m\n\u001b[0;32m    435\u001b[0m         \u001b[1;32mif\u001b[0m \u001b[0mensure_2d\u001b[0m\u001b[1;33m:\u001b[0m\u001b[1;33m\u001b[0m\u001b[0m\n",
      "\u001b[1;31mValueError\u001b[0m: could not convert string to float: 'other'"
     ]
    }
   ],
   "source": [
    "from sklearn.preprocessing import OneHotEncoder\n",
    "onehotencoder = OneHotEncoder(categorical_features = [0])\n",
    "x = onehotencoder.fit_transform(df.label).toarray()"
   ]
  },
  {
   "cell_type": "code",
   "execution_count": 84,
   "metadata": {
    "collapsed": true
   },
   "outputs": [],
   "source": [
    "# trainIndex, testIndex = list(), list()\n",
    "# for i in range(df.shape[0]):\n",
    "#     if np.random.uniform(0, 1) < 0.75:\n",
    "#         trainIndex += [i]\n",
    "#     else:\n",
    "#         testIndex += [i]\n",
    "# trainData = df.loc[trainIndex]\n",
    "# testData = df.loc[testIndex]"
   ]
  },
  {
   "cell_type": "code",
   "execution_count": 85,
   "metadata": {
    "collapsed": true
   },
   "outputs": [],
   "source": [
    "# trainData.reset_index(inplace = True)\n",
    "# trainData.drop(['index'], axis = 1, inplace = True)\n",
    "# trainData.drop(['label'],axis = 1, inplace = True)\n",
    "# trainData.drop(['level_0'], axis = 1, inplace = True)"
   ]
  },
  {
   "cell_type": "code",
   "execution_count": 86,
   "metadata": {
    "collapsed": true,
    "scrolled": true
   },
   "outputs": [],
   "source": [
    "# trainData[\"id\"].fillna(0.0).astype(int)"
   ]
  },
  {
   "cell_type": "code",
   "execution_count": 87,
   "metadata": {
    "collapsed": true
   },
   "outputs": [],
   "source": [
    "# testData['index'] = range(0, len(testData))\n",
    "# testData.drop(['index'], axis = 1, inplace = True)\n",
    "# testData.drop(['label'],axis = 1, inplace = True)\n",
    "# testData.drop(['level_0'], axis = 1, inplace = True)\n"
   ]
  },
  {
   "cell_type": "code",
   "execution_count": 88,
   "metadata": {
    "collapsed": true,
    "scrolled": true
   },
   "outputs": [],
   "source": [
    "# testData[\"labels\"]=testData[\"labels\"].fillna(0.0).astype(int)\n",
    "# testData[\"index\"]=testData[\"index\"].fillna(0.0).astype(int)"
   ]
  },
  {
   "cell_type": "code",
   "execution_count": 89,
   "metadata": {
    "collapsed": true
   },
   "outputs": [],
   "source": [
    "# testData.head()"
   ]
  },
  {
   "cell_type": "code",
   "execution_count": 90,
   "metadata": {
    "collapsed": true
   },
   "outputs": [],
   "source": [
    "# test_data_dic = testData.set_index('index')[\"email\"].to_dict()"
   ]
  },
  {
   "cell_type": "code",
   "execution_count": 91,
   "metadata": {
    "collapsed": true
   },
   "outputs": [],
   "source": [
    "data_set_list = [y for x in clean_data_set for y in x]\n",
    "# data_set_list"
   ]
  },
  {
   "cell_type": "code",
   "execution_count": 92,
   "metadata": {
    "collapsed": true
   },
   "outputs": [],
   "source": [
    "X_train, X_test, y_train, y_test = train_test_split( df.email, df.label,test_size=0.3,random_state=0)"
   ]
  },
  {
   "cell_type": "code",
   "execution_count": 93,
   "metadata": {
    "collapsed": false
   },
   "outputs": [
    {
     "data": {
      "text/plain": [
       "(326,)"
      ]
     },
     "execution_count": 93,
     "metadata": {},
     "output_type": "execute_result"
    }
   ],
   "source": [
    "X_train.shape"
   ]
  },
  {
   "cell_type": "code",
   "execution_count": 94,
   "metadata": {
    "collapsed": false
   },
   "outputs": [
    {
     "data": {
      "text/plain": [
       "(467, 3281)"
      ]
     },
     "execution_count": 94,
     "metadata": {},
     "output_type": "execute_result"
    }
   ],
   "source": [
    "from sklearn.feature_extraction.text import TfidfVectorizer\n",
    "tfidf = TfidfVectorizer(sublinear_tf=True, min_df=5, norm='l2', encoding='latin-1', ngram_range=(1, 2), stop_words='english')\n",
    "labels = df.labels\n",
    "features = tfidf.fit_transform(df.email).toarray()\n",
    "features.shape\n",
    "# each of the email represent 5 features"
   ]
  },
  {
   "cell_type": "code",
   "execution_count": 95,
   "metadata": {
    "collapsed": true
   },
   "outputs": [],
   "source": [
    "# count_vect = CountVectorizer()\n",
    "# X_train_counts = count_vect.fit_transform(X_train)\n",
    "# tfidf_transformer = TfidfTransformer()\n",
    "# X_train_tfidf = tfidf_transformer.fit_transform(X_train_counts)"
   ]
  },
  {
   "cell_type": "code",
   "execution_count": 178,
   "metadata": {
    "collapsed": true
   },
   "outputs": [],
   "source": [
    "# X_train_tfidf.shape"
   ]
  },
  {
   "cell_type": "code",
   "execution_count": 179,
   "metadata": {
    "collapsed": true
   },
   "outputs": [],
   "source": [
    "from sklearn.pipeline import Pipeline\n",
    "from sklearn.multiclass import OneVsRestClassifier\n",
    "from sklearn.linear_model import SGDClassifier\n",
    "from sklearn.preprocessing import MultiLabelBinarizer\n",
    "from sklearn.svm import LinearSVC\n",
    "pipeline = Pipeline([\n",
    "               ('vect', CountVectorizer(ngram_range=(1,3), max_df=0.02 ) ),\n",
    "               ('tfidf', TfidfTransformer() ),\n",
    "               ('clf', MultinomialNB()),\n",
    "#                ('clf', SGDClassifier(loss='hinge', random_state=42,\n",
    "#                             alpha=0.1, max_iter=5, tol=None, n_jobs=-1) ),\n",
    "                ])\n",
    "# np.concatenate((y_train,y_test[:,None]))\n",
    "# np.concatenate(\n",
    "#    (np.reshape(y_test, (,2)), np.reshape(y_train, (, 2))), \n",
    "#    axis=1\n",
    "# )\n",
    "# all_labels = np.hstack([y_train,y_test])\n",
    "# # all_labels\n",
    "# mlb = MultiLabelBinarizer().fit(all_labels)\n",
    "# Y_train_binary = mlb.transform(y_train)\n",
    "# Y_test_binary = mlb.transform(y_test)\n",
    "# Y_train_binary.shape\n",
    "# X_train=np.argmax(X_train)"
   ]
  },
  {
   "cell_type": "code",
   "execution_count": 180,
   "metadata": {
    "collapsed": false
   },
   "outputs": [
    {
     "data": {
      "text/plain": [
       "Pipeline(memory=None,\n",
       "     steps=[('vect', CountVectorizer(analyzer='word', binary=False, decode_error='strict',\n",
       "        dtype=<class 'numpy.int64'>, encoding='utf-8', input='content',\n",
       "        lowercase=True, max_df=0.02, max_features=None, min_df=1,\n",
       "        ngram_range=(1, 3), preprocessor=None, stop_words=None,\n",
       "        stri...inear_tf=False, use_idf=True)), ('clf', MultinomialNB(alpha=1.0, class_prior=None, fit_prior=True))])"
      ]
     },
     "execution_count": 180,
     "metadata": {},
     "output_type": "execute_result"
    }
   ],
   "source": [
    "pipeline"
   ]
  },
  {
   "cell_type": "code",
   "execution_count": 181,
   "metadata": {
    "collapsed": true,
    "scrolled": true
   },
   "outputs": [],
   "source": [
    "pipeline.fit(X_train,y_train)\n",
    "\n",
    "# # the result is also a binary label matrix\n",
    "Y_preds = pipeline.predict(X_test)\n"
   ]
  },
  {
   "cell_type": "code",
   "execution_count": 182,
   "metadata": {
    "collapsed": false
   },
   "outputs": [
    {
     "data": {
      "text/plain": [
       "0.8524590163934426"
      ]
     },
     "execution_count": 182,
     "metadata": {},
     "output_type": "execute_result"
    }
   ],
   "source": [
    "# calculate f1 on the test set\n",
    "from sklearn.metrics import f1_score\n",
    "f1_score(Y_preds, y_test,average='micro')"
   ]
  },
  {
   "cell_type": "code",
   "execution_count": 183,
   "metadata": {
    "collapsed": false
   },
   "outputs": [
    {
     "name": "stdout",
     "output_type": "stream",
     "text": [
      "             precision    recall  f1-score   support\n",
      "\n",
      "      sales       0.79      1.00      0.89       312\n",
      "      other       1.00      0.66      0.79       237\n",
      "\n",
      "avg / total       0.88      0.85      0.85       549\n",
      "\n"
     ]
    }
   ],
   "source": [
    "from sklearn import metrics\n",
    "from sklearn.metrics import classification_report\n",
    "\n",
    "print(metrics.classification_report(y_test, Y_preds, \n",
    "                                    target_names=df.label.unique()))"
   ]
  },
  {
   "cell_type": "code",
   "execution_count": 96,
   "metadata": {
    "collapsed": false
   },
   "outputs": [
    {
     "name": "stderr",
     "output_type": "stream",
     "text": [
      "C:\\Users\\Aimee\\Anaconda3\\lib\\site-packages\\sklearn\\model_selection\\_split.py:605: Warning: The least populated class in y has only 1 members, which is too few. The minimum number of members in any class cannot be less than n_splits=5.\n",
      "  % (min_groups, self.n_splits)), Warning)\n",
      "C:\\Users\\Aimee\\Anaconda3\\lib\\site-packages\\sklearn\\model_selection\\_split.py:605: Warning: The least populated class in y has only 1 members, which is too few. The minimum number of members in any class cannot be less than n_splits=5.\n",
      "  % (min_groups, self.n_splits)), Warning)\n",
      "C:\\Users\\Aimee\\Anaconda3\\lib\\site-packages\\sklearn\\model_selection\\_split.py:605: Warning: The least populated class in y has only 1 members, which is too few. The minimum number of members in any class cannot be less than n_splits=5.\n",
      "  % (min_groups, self.n_splits)), Warning)\n",
      "C:\\Users\\Aimee\\Anaconda3\\lib\\site-packages\\sklearn\\model_selection\\_split.py:605: Warning: The least populated class in y has only 1 members, which is too few. The minimum number of members in any class cannot be less than n_splits=5.\n",
      "  % (min_groups, self.n_splits)), Warning)\n",
      "C:\\Users\\Aimee\\Anaconda3\\lib\\site-packages\\sklearn\\model_selection\\_split.py:605: Warning: The least populated class in y has only 1 members, which is too few. The minimum number of members in any class cannot be less than n_splits=5.\n",
      "  % (min_groups, self.n_splits)), Warning)\n"
     ]
    }
   ],
   "source": [
    "from sklearn.linear_model import LogisticRegression\n",
    "from sklearn.ensemble import RandomForestClassifier\n",
    "from sklearn.naive_bayes import MultinomialNB\n",
    "from sklearn.svm import LinearSVC\n",
    "from sklearn.linear_model import SGDClassifier\n",
    "from sklearn.model_selection import cross_val_score\n",
    "\n",
    "\n",
    "models = [\n",
    "    RandomForestClassifier(n_estimators=200, max_depth=3, random_state=0),\n",
    "    LinearSVC(),\n",
    "    MultinomialNB(),\n",
    "    LogisticRegression(random_state=0),\n",
    "    SGDClassifier(loss=\"log\",random_state=1, max_iter=1),\n",
    "]\n",
    "CV = 5\n",
    "cv_df = pd.DataFrame(index=range(CV * len(models)))\n",
    "entries = []\n",
    "for model in models:\n",
    "    model_name = model.__class__.__name__\n",
    "    accuracies = cross_val_score(model, features, labels, scoring='accuracy', cv=CV)\n",
    "    for fold_idx, accuracy in enumerate(accuracies):\n",
    "        entries.append((model_name, fold_idx, accuracy))\n",
    "cv_df = pd.DataFrame(entries, columns=['model_name', 'fold_idx', 'accuracy'])"
   ]
  },
  {
   "cell_type": "code",
   "execution_count": 97,
   "metadata": {
    "collapsed": false
   },
   "outputs": [
    {
     "data": {
      "image/png": "[encoded data removed]",
      "text/plain": [
       "<Figure size 432x288 with 1 Axes>"
      ]
     },
     "metadata": {},
     "output_type": "display_data"
    }
   ],
   "source": [
    "import seaborn as sns\n",
    "\n",
    "sns.boxplot(x='model_name', y='accuracy', data=cv_df)\n",
    "sns.stripplot(x='model_name', y='accuracy', data=cv_df, \n",
    "              size=8, jitter=True, edgecolor=\"gray\", linewidth=2)\n",
    "plt.show()"
   ]
  },
  {
   "cell_type": "code",
   "execution_count": 98,
   "metadata": {
    "collapsed": false
   },
   "outputs": [
    {
     "data": {
      "text/plain": [
       "model_name\n",
       "LinearSVC                 0.844746\n",
       "LogisticRegression        0.810427\n",
       "MultinomialNB             0.810427\n",
       "RandomForestClassifier    0.810427\n",
       "SGDClassifier             0.844645\n",
       "Name: accuracy, dtype: float64"
      ]
     },
     "execution_count": 98,
     "metadata": {},
     "output_type": "execute_result"
    }
   ],
   "source": [
    "cv_df.groupby('model_name').accuracy.mean()"
   ]
  },
  {
   "cell_type": "code",
   "execution_count": 99,
   "metadata": {
    "collapsed": true
   },
   "outputs": [],
   "source": [
    "from sklearn.model_selection import train_test_split\n",
    "\n",
    "# model = SGDClassifier(loss=\"log\",n_jobs=10)\n",
    "model=MultinomialNB()\n",
    "X_train2, X_test2, y_train2, y_test2 = train_test_split(features, labels, test_size=0.33, random_state=0)\n",
    "model.fit(X_train2, y_train2)\n",
    "y_pred2 = model.predict(X_test2)"
   ]
  },
  {
   "cell_type": "code",
   "execution_count": 100,
   "metadata": {
    "collapsed": true,
    "scrolled": true
   },
   "outputs": [],
   "source": [
    "predict={}\n",
    "index=[]\n",
    "for i in range(len(y_pred2)):\n",
    "    index.append(i)\n",
    "    predict=dict(zip(index,y_pred2))"
   ]
  },
  {
   "cell_type": "code",
   "execution_count": 101,
   "metadata": {
    "collapsed": true
   },
   "outputs": [],
   "source": [
    "y_test2_df = pd.DataFrame({\"values\":y_test2.values})"
   ]
  },
  {
   "cell_type": "code",
   "execution_count": 102,
   "metadata": {
    "collapsed": true
   },
   "outputs": [],
   "source": [
    "y_test2_df = pd.DataFrame({\"labels\":y_test2_df.index,\"values\":y_test2.values})"
   ]
  },
  {
   "cell_type": "code",
   "execution_count": 107,
   "metadata": {
    "collapsed": false
   },
   "outputs": [
    {
     "data": {
      "text/plain": [
       "MultinomialNB(alpha=1.0, class_prior=None, fit_prior=True)"
      ]
     },
     "execution_count": 107,
     "metadata": {},
     "output_type": "execute_result"
    }
   ],
   "source": [
    "model.fit(features, labels)"
   ]
  },
  {
   "cell_type": "code",
   "execution_count": 108,
   "metadata": {
    "collapsed": false
   },
   "outputs": [
    {
     "name": "stdout",
     "output_type": "stream",
     "text": [
      "                                     precision    recall  f1-score   support\n",
      "\n",
      "               Cold Email Templates       0.00      0.00      0.00        12\n",
      "Researched Outreach Email Templates       0.00      0.00      0.00         2\n",
      "  Referral Outreach Email Templates       0.00      0.00      0.00         5\n",
      " LinkedIn Outreach InMail Templates       0.00      0.00      0.00         4\n",
      "          Follow Up Email Templates       0.00      0.00      0.00         3\n",
      "                           Break Up       0.00      0.00      0.00         1\n",
      "                              Trial       0.00      0.00      0.00         6\n",
      "                            Startup       0.79      1.00      0.88       122\n",
      "\n",
      "                        avg / total       0.62      0.79      0.69       155\n",
      "\n"
     ]
    },
    {
     "name": "stderr",
     "output_type": "stream",
     "text": [
      "C:\\Users\\Aimee\\Anaconda3\\lib\\site-packages\\sklearn\\metrics\\classification.py:1428: UserWarning: labels size, 8, does not match size of target_names, 11\n",
      "  .format(len(labels), len(target_names))\n",
      "C:\\Users\\Aimee\\Anaconda3\\lib\\site-packages\\sklearn\\metrics\\classification.py:1135: UndefinedMetricWarning: Precision and F-score are ill-defined and being set to 0.0 in labels with no predicted samples.\n",
      "  'precision', 'predicted', average, warn_for)\n"
     ]
    }
   ],
   "source": [
    "from sklearn import metrics\n",
    "from sklearn.metrics import classification_report\n",
    "\n",
    "print(metrics.classification_report(y_test2, y_pred2, \n",
    "                                    target_names=df.label.unique()))"
   ]
  },
  {
   "cell_type": "markdown",
   "metadata": {},
   "source": [
    "# classification report"
   ]
  },
  {
   "cell_type": "code",
   "execution_count": 109,
   "metadata": {
    "collapsed": false
   },
   "outputs": [
    {
     "ename": "ZeroDivisionError",
     "evalue": "division by zero",
     "output_type": "error",
     "traceback": [
      "\u001b[1;31m---------------------------------------------------------------------------\u001b[0m",
      "\u001b[1;31mZeroDivisionError\u001b[0m                         Traceback (most recent call last)",
      "\u001b[1;32m<ipython-input-109-ce77ebdcb815>\u001b[0m in \u001b[0;36m<module>\u001b[1;34m()\u001b[0m\n\u001b[0;32m     16\u001b[0m     \u001b[0mprint\u001b[0m\u001b[1;33m(\u001b[0m\u001b[1;34m\"Accuracy: \"\u001b[0m\u001b[1;33m,\u001b[0m \u001b[0maccuracy\u001b[0m\u001b[1;33m)\u001b[0m\u001b[1;33m\u001b[0m\u001b[0m\n\u001b[0;32m     17\u001b[0m \u001b[1;33m\u001b[0m\u001b[0m\n\u001b[1;32m---> 18\u001b[1;33m \u001b[0mmetrics\u001b[0m\u001b[1;33m(\u001b[0m\u001b[0my_test2_df\u001b[0m\u001b[1;33m[\u001b[0m\u001b[1;34m\"values\"\u001b[0m\u001b[1;33m]\u001b[0m\u001b[1;33m,\u001b[0m \u001b[0mpredict\u001b[0m\u001b[1;33m)\u001b[0m\u001b[1;33m\u001b[0m\u001b[0m\n\u001b[0m",
      "\u001b[1;32m<ipython-input-109-ce77ebdcb815>\u001b[0m in \u001b[0;36mmetrics\u001b[1;34m(labels, predictions)\u001b[0m\n\u001b[0;32m      6\u001b[0m         \u001b[0mfalse_pos\u001b[0m \u001b[1;33m+=\u001b[0m \u001b[0mint\u001b[0m\u001b[1;33m(\u001b[0m\u001b[0mlabels\u001b[0m\u001b[1;33m[\u001b[0m\u001b[0mi\u001b[0m\u001b[1;33m]\u001b[0m \u001b[1;33m==\u001b[0m \u001b[1;36m0\u001b[0m \u001b[1;32mand\u001b[0m \u001b[0mpredictions\u001b[0m\u001b[1;33m[\u001b[0m\u001b[0mi\u001b[0m\u001b[1;33m]\u001b[0m \u001b[1;33m==\u001b[0m \u001b[1;36m1\u001b[0m\u001b[1;33m)\u001b[0m\u001b[1;33m\u001b[0m\u001b[0m\n\u001b[0;32m      7\u001b[0m         \u001b[0mfalse_neg\u001b[0m \u001b[1;33m+=\u001b[0m \u001b[0mint\u001b[0m\u001b[1;33m(\u001b[0m\u001b[0mlabels\u001b[0m\u001b[1;33m[\u001b[0m\u001b[0mi\u001b[0m\u001b[1;33m]\u001b[0m \u001b[1;33m==\u001b[0m \u001b[1;36m1\u001b[0m \u001b[1;32mand\u001b[0m \u001b[0mpredictions\u001b[0m\u001b[1;33m[\u001b[0m\u001b[0mi\u001b[0m\u001b[1;33m]\u001b[0m \u001b[1;33m==\u001b[0m \u001b[1;36m0\u001b[0m\u001b[1;33m)\u001b[0m\u001b[1;33m\u001b[0m\u001b[0m\n\u001b[1;32m----> 8\u001b[1;33m     \u001b[0mprecision\u001b[0m \u001b[1;33m=\u001b[0m \u001b[0mtrue_pos\u001b[0m \u001b[1;33m/\u001b[0m \u001b[1;33m(\u001b[0m\u001b[0mtrue_pos\u001b[0m \u001b[1;33m+\u001b[0m \u001b[0mfalse_pos\u001b[0m\u001b[1;33m)\u001b[0m\u001b[1;33m\u001b[0m\u001b[0m\n\u001b[0m\u001b[0;32m      9\u001b[0m     \u001b[0mrecall\u001b[0m \u001b[1;33m=\u001b[0m \u001b[0mtrue_pos\u001b[0m \u001b[1;33m/\u001b[0m \u001b[1;33m(\u001b[0m\u001b[0mtrue_pos\u001b[0m \u001b[1;33m+\u001b[0m \u001b[0mfalse_neg\u001b[0m\u001b[1;33m)\u001b[0m\u001b[1;33m\u001b[0m\u001b[0m\n\u001b[0;32m     10\u001b[0m     \u001b[0mFscore\u001b[0m \u001b[1;33m=\u001b[0m \u001b[1;36m2\u001b[0m \u001b[1;33m*\u001b[0m \u001b[0mprecision\u001b[0m \u001b[1;33m*\u001b[0m \u001b[0mrecall\u001b[0m \u001b[1;33m/\u001b[0m \u001b[1;33m(\u001b[0m\u001b[0mprecision\u001b[0m \u001b[1;33m+\u001b[0m \u001b[0mrecall\u001b[0m\u001b[1;33m)\u001b[0m\u001b[1;33m\u001b[0m\u001b[0m\n",
      "\u001b[1;31mZeroDivisionError\u001b[0m: division by zero"
     ]
    }
   ],
   "source": [
    "def metrics(labels, predictions):\n",
    "    true_pos, true_neg, false_pos, false_neg = 0, 0, 0, 0\n",
    "    for i in range(len(labels)):\n",
    "        true_pos += int(labels[i] == 1 and predictions[i] == 1)\n",
    "        true_neg += int(labels[i] == 0 and predictions[i] == 0)\n",
    "        false_pos += int(labels[i] == 0 and predictions[i] == 1)\n",
    "        false_neg += int(labels[i] == 1 and predictions[i] == 0)\n",
    "    precision = true_pos / (true_pos + false_pos)\n",
    "    recall = true_pos / (true_pos + false_neg)\n",
    "    Fscore = 2 * precision * recall / (precision + recall)\n",
    "    accuracy = (true_pos + true_neg) / (true_pos + true_neg + false_pos + false_neg)\n",
    "\n",
    "    print(\"Precision: \", precision)\n",
    "    print(\"Recall: \", recall)\n",
    "    print(\"F-score: \", Fscore)\n",
    "    print(\"Accuracy: \", accuracy)\n",
    "\n",
    "metrics(y_test2_df[\"values\"], predict)"
   ]
  },
  {
   "cell_type": "code",
   "execution_count": 106,
   "metadata": {
    "collapsed": false
   },
   "outputs": [
    {
     "data": {
      "text/plain": [
       "0.7870967741935484"
      ]
     },
     "execution_count": 106,
     "metadata": {},
     "output_type": "execute_result"
    }
   ],
   "source": [
    "np.mean(y_pred2 == y_test2)"
   ]
  },
  {
   "cell_type": "markdown",
   "metadata": {},
   "source": [
    "# Test & Evaluation"
   ]
  },
  {
   "cell_type": "code",
   "execution_count": 202,
   "metadata": {
    "collapsed": false
   },
   "outputs": [
    {
     "name": "stdout",
     "output_type": "stream",
     "text": [
      "\" contacting you. y launching our new Lead Generation application next month which gives access to a huge leads database with instant email commu.\"\n",
      "  - Predicted as: 'sales'\n",
      "\n",
      "\"It has been difficult for me to find my past due balance. I missed a regular monthly payment\"\n",
      "  - Predicted as: 'other'\n",
      "\n",
      "\"sales\"\n",
      "  - Predicted as: 'sales'\n",
      "\n",
      "\"I have no money to pay my tuition\"\n",
      "  - Predicted as: 'other'\n",
      "\n",
      "\"Coinbase closed my account for no reason and furthermore refused to give me a reason despite dozens of request\"\n",
      "  - Predicted as: 'other'\n",
      "\n"
     ]
    }
   ],
   "source": [
    "texts = [\" contacting you. y launching our new\\xa0Lead Generation\\xa0application next month which gives access to a huge leads database with instant email commu.\",\n",
    "         \"It has been difficult for me to find my past due balance. I missed a regular monthly payment\",\n",
    "         \"sales\",\n",
    "         \"I have no money to pay my tuition\",\n",
    "         \"Coinbase closed my account for no reason and furthermore refused to give me a reason despite dozens of request\"]\n",
    "text_features = tfidf.transform(texts)\n",
    "predictions = model.predict(text_features)\n",
    "# print(predictions)\n",
    "for text, predicted in zip(texts, predictions):\n",
    "    print('\"{}\"'.format(text))\n",
    "    print(\"  - Predicted as: '{}'\".format(result_dict[predicted]))\n",
    "    print(\"\")"
   ]
  },
  {
   "cell_type": "code",
   "execution_count": null,
   "metadata": {
    "collapsed": true
   },
   "outputs": [],
   "source": []
  },
  {
   "cell_type": "code",
   "execution_count": null,
   "metadata": {
    "collapsed": true
   },
   "outputs": [],
   "source": []
  }
 ],
 "metadata": {
  "anaconda-cloud": {},
  "kernelspec": {
   "display_name": "Python [default]",
   "language": "python",
   "name": "python3"
  },
  "language_info": {
   "codemirror_mode": {
    "name": "ipython",
    "version": 3
   },
   "file_extension": ".py",
   "mimetype": "text/x-python",
   "name": "python",
   "nbconvert_exporter": "python",
   "pygments_lexer": "ipython3",
   "version": "3.5.2"
  }
 },
 "nbformat": 4,
 "nbformat_minor": 2
}
